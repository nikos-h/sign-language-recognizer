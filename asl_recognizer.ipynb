{
 "cells": [
  {
   "cell_type": "markdown",
   "metadata": {
    "collapsed": true
   },
   "source": [
    "# Artificial Intelligence Engineer Nanodegree - Probabilistic Models\n",
    "## Project: Sign Language Recognition System\n",
    "- [Introduction](#intro)\n",
    "- [Part 1 Feature Selection](#part1_tutorial)\n",
    "    - [Tutorial](#part1_tutorial)\n",
    "    - [Features Submission](#part1_submission)\n",
    "    - [Features Unittest](#part1_test)\n",
    "- [Part 2 Train the models](#part2_tutorial)\n",
    "    - [Tutorial](#part2_tutorial)\n",
    "    - [Model Selection Score Submission](#part2_submission)\n",
    "    - [Model Score Unittest](#part2_test)\n",
    "- [Part 3 Build a Recognizer](#part3_tutorial)\n",
    "    - [Tutorial](#part3_tutorial)\n",
    "    - [Recognizer Submission](#part3_submission)\n",
    "    - [Recognizer Unittest](#part3_test)\n",
    "- [Part 4 (OPTIONAL) Improve the WER with Language Models](#part4_info)"
   ]
  },
  {
   "cell_type": "markdown",
   "metadata": {},
   "source": [
    "<a id='intro'></a>\n",
    "## Introduction\n",
    "The overall goal of this project is to build a word recognizer for American Sign Language video sequences, demonstrating the power of probabalistic models.  In particular, this project employs  [hidden Markov models (HMM's)](https://en.wikipedia.org/wiki/Hidden_Markov_model) to analyze a series of measurements taken from videos of American Sign Language (ASL) collected for research (see the [RWTH-BOSTON-104 Database](http://www-i6.informatik.rwth-aachen.de/~dreuw/database-rwth-boston-104.php)).  In this video, the right-hand x and y locations are plotted as the speaker signs the sentence.\n",
    "[![ASLR demo](http://www-i6.informatik.rwth-aachen.de/~dreuw/images/demosample.png)](https://drive.google.com/open?id=0B_5qGuFe-wbhUXRuVnNZVnMtam8)\n",
    "\n",
    "The raw data, train, and test sets are pre-defined.  You will derive a variety of feature sets (explored in Part 1), as well as implement three different model selection criterion to determine the optimal number of hidden states for each word model (explored in Part 2). Finally, in Part 3 you will implement the recognizer and compare the effects the different combinations of feature sets and model selection criteria.  \n",
    "\n",
    "At the end of each Part, complete the submission cells with implementations, answer all questions, and pass the unit tests.  Then submit the completed notebook for review!"
   ]
  },
  {
   "cell_type": "markdown",
   "metadata": {},
   "source": [
    "<a id='part1_tutorial'></a>\n",
    "## PART 1: Data\n",
    "\n",
    "### Features Tutorial\n",
    "##### Load the initial database\n",
    "A data handler designed for this database is provided in the student codebase as the `AslDb` class in the `asl_data` module.  This handler creates the initial [pandas](http://pandas.pydata.org/pandas-docs/stable/) dataframe from the corpus of data included in the `data` directory as well as dictionaries suitable for extracting data in a format friendly to the [hmmlearn](https://hmmlearn.readthedocs.io/en/latest/) library.  We'll use those to create models in Part 2.\n",
    "\n",
    "To start, let's set up the initial database and select an example set of features for the training set.  At the end of Part 1, you will create additional feature sets for experimentation. "
   ]
  },
  {
   "cell_type": "code",
   "execution_count": 1,
   "metadata": {
    "scrolled": true
   },
   "outputs": [
    {
     "data": {
      "text/html": [
       "<div>\n",
       "<table border=\"1\" class=\"dataframe\">\n",
       "  <thead>\n",
       "    <tr style=\"text-align: right;\">\n",
       "      <th></th>\n",
       "      <th></th>\n",
       "      <th>left-x</th>\n",
       "      <th>left-y</th>\n",
       "      <th>right-x</th>\n",
       "      <th>right-y</th>\n",
       "      <th>nose-x</th>\n",
       "      <th>nose-y</th>\n",
       "      <th>speaker</th>\n",
       "    </tr>\n",
       "    <tr>\n",
       "      <th>video</th>\n",
       "      <th>frame</th>\n",
       "      <th></th>\n",
       "      <th></th>\n",
       "      <th></th>\n",
       "      <th></th>\n",
       "      <th></th>\n",
       "      <th></th>\n",
       "      <th></th>\n",
       "    </tr>\n",
       "  </thead>\n",
       "  <tbody>\n",
       "    <tr>\n",
       "      <th rowspan=\"5\" valign=\"top\">98</th>\n",
       "      <th>0</th>\n",
       "      <td>149</td>\n",
       "      <td>181</td>\n",
       "      <td>170</td>\n",
       "      <td>175</td>\n",
       "      <td>161</td>\n",
       "      <td>62</td>\n",
       "      <td>woman-1</td>\n",
       "    </tr>\n",
       "    <tr>\n",
       "      <th>1</th>\n",
       "      <td>149</td>\n",
       "      <td>181</td>\n",
       "      <td>170</td>\n",
       "      <td>175</td>\n",
       "      <td>161</td>\n",
       "      <td>62</td>\n",
       "      <td>woman-1</td>\n",
       "    </tr>\n",
       "    <tr>\n",
       "      <th>2</th>\n",
       "      <td>149</td>\n",
       "      <td>181</td>\n",
       "      <td>170</td>\n",
       "      <td>175</td>\n",
       "      <td>161</td>\n",
       "      <td>62</td>\n",
       "      <td>woman-1</td>\n",
       "    </tr>\n",
       "    <tr>\n",
       "      <th>3</th>\n",
       "      <td>149</td>\n",
       "      <td>181</td>\n",
       "      <td>170</td>\n",
       "      <td>175</td>\n",
       "      <td>161</td>\n",
       "      <td>62</td>\n",
       "      <td>woman-1</td>\n",
       "    </tr>\n",
       "    <tr>\n",
       "      <th>4</th>\n",
       "      <td>149</td>\n",
       "      <td>181</td>\n",
       "      <td>170</td>\n",
       "      <td>175</td>\n",
       "      <td>161</td>\n",
       "      <td>62</td>\n",
       "      <td>woman-1</td>\n",
       "    </tr>\n",
       "  </tbody>\n",
       "</table>\n",
       "</div>"
      ],
      "text/plain": [
       "             left-x  left-y  right-x  right-y  nose-x  nose-y  speaker\n",
       "video frame                                                           \n",
       "98    0         149     181      170      175     161      62  woman-1\n",
       "      1         149     181      170      175     161      62  woman-1\n",
       "      2         149     181      170      175     161      62  woman-1\n",
       "      3         149     181      170      175     161      62  woman-1\n",
       "      4         149     181      170      175     161      62  woman-1"
      ]
     },
     "execution_count": 1,
     "metadata": {},
     "output_type": "execute_result"
    }
   ],
   "source": [
    "%load_ext autoreload\n",
    "%autoreload 2\n",
    "import numpy as np\n",
    "import pandas as pd\n",
    "from asl_data import AslDb\n",
    "\n",
    "\n",
    "asl = AslDb() # initializes the database\n",
    "asl.df.head() # displays the first five rows of the asl database, indexed by video and frame"
   ]
  },
  {
   "cell_type": "code",
   "execution_count": 2,
   "metadata": {},
   "outputs": [
    {
     "data": {
      "text/plain": [
       "left-x         149\n",
       "left-y         181\n",
       "right-x        170\n",
       "right-y        175\n",
       "nose-x         161\n",
       "nose-y          62\n",
       "speaker    woman-1\n",
       "Name: (98, 1), dtype: object"
      ]
     },
     "execution_count": 2,
     "metadata": {},
     "output_type": "execute_result"
    }
   ],
   "source": [
    "asl.df.ix[98,1]  # look at the data available for an individual frame"
   ]
  },
  {
   "cell_type": "markdown",
   "metadata": {},
   "source": [
    "The frame represented by video 98, frame 1 is shown here:\n",
    "![Video 98](http://www-i6.informatik.rwth-aachen.de/~dreuw/database/rwth-boston-104/overview/images/orig/098-start.jpg)"
   ]
  },
  {
   "cell_type": "markdown",
   "metadata": {},
   "source": [
    "##### Feature selection for training the model\n",
    "The objective of feature selection when training a model is to choose the most relevant variables while keeping the model as simple as possible, thus reducing training time.  We can use the raw features already provided or derive our own and add columns to the pandas dataframe `asl.df` for selection. As an example, in the next cell a feature named `'grnd-ry'` is added. This feature is the difference between the right-hand y value and the nose y value, which serves as the \"ground\" right y value. "
   ]
  },
  {
   "cell_type": "code",
   "execution_count": 3,
   "metadata": {},
   "outputs": [
    {
     "data": {
      "text/html": [
       "<div>\n",
       "<table border=\"1\" class=\"dataframe\">\n",
       "  <thead>\n",
       "    <tr style=\"text-align: right;\">\n",
       "      <th></th>\n",
       "      <th></th>\n",
       "      <th>left-x</th>\n",
       "      <th>left-y</th>\n",
       "      <th>right-x</th>\n",
       "      <th>right-y</th>\n",
       "      <th>nose-x</th>\n",
       "      <th>nose-y</th>\n",
       "      <th>speaker</th>\n",
       "      <th>grnd-ry</th>\n",
       "    </tr>\n",
       "    <tr>\n",
       "      <th>video</th>\n",
       "      <th>frame</th>\n",
       "      <th></th>\n",
       "      <th></th>\n",
       "      <th></th>\n",
       "      <th></th>\n",
       "      <th></th>\n",
       "      <th></th>\n",
       "      <th></th>\n",
       "      <th></th>\n",
       "    </tr>\n",
       "  </thead>\n",
       "  <tbody>\n",
       "    <tr>\n",
       "      <th rowspan=\"5\" valign=\"top\">98</th>\n",
       "      <th>0</th>\n",
       "      <td>149</td>\n",
       "      <td>181</td>\n",
       "      <td>170</td>\n",
       "      <td>175</td>\n",
       "      <td>161</td>\n",
       "      <td>62</td>\n",
       "      <td>woman-1</td>\n",
       "      <td>113</td>\n",
       "    </tr>\n",
       "    <tr>\n",
       "      <th>1</th>\n",
       "      <td>149</td>\n",
       "      <td>181</td>\n",
       "      <td>170</td>\n",
       "      <td>175</td>\n",
       "      <td>161</td>\n",
       "      <td>62</td>\n",
       "      <td>woman-1</td>\n",
       "      <td>113</td>\n",
       "    </tr>\n",
       "    <tr>\n",
       "      <th>2</th>\n",
       "      <td>149</td>\n",
       "      <td>181</td>\n",
       "      <td>170</td>\n",
       "      <td>175</td>\n",
       "      <td>161</td>\n",
       "      <td>62</td>\n",
       "      <td>woman-1</td>\n",
       "      <td>113</td>\n",
       "    </tr>\n",
       "    <tr>\n",
       "      <th>3</th>\n",
       "      <td>149</td>\n",
       "      <td>181</td>\n",
       "      <td>170</td>\n",
       "      <td>175</td>\n",
       "      <td>161</td>\n",
       "      <td>62</td>\n",
       "      <td>woman-1</td>\n",
       "      <td>113</td>\n",
       "    </tr>\n",
       "    <tr>\n",
       "      <th>4</th>\n",
       "      <td>149</td>\n",
       "      <td>181</td>\n",
       "      <td>170</td>\n",
       "      <td>175</td>\n",
       "      <td>161</td>\n",
       "      <td>62</td>\n",
       "      <td>woman-1</td>\n",
       "      <td>113</td>\n",
       "    </tr>\n",
       "  </tbody>\n",
       "</table>\n",
       "</div>"
      ],
      "text/plain": [
       "             left-x  left-y  right-x  right-y  nose-x  nose-y  speaker  \\\n",
       "video frame                                                              \n",
       "98    0         149     181      170      175     161      62  woman-1   \n",
       "      1         149     181      170      175     161      62  woman-1   \n",
       "      2         149     181      170      175     161      62  woman-1   \n",
       "      3         149     181      170      175     161      62  woman-1   \n",
       "      4         149     181      170      175     161      62  woman-1   \n",
       "\n",
       "             grnd-ry  \n",
       "video frame           \n",
       "98    0          113  \n",
       "      1          113  \n",
       "      2          113  \n",
       "      3          113  \n",
       "      4          113  "
      ]
     },
     "execution_count": 3,
     "metadata": {},
     "output_type": "execute_result"
    }
   ],
   "source": [
    "asl.df['grnd-ry'] = asl.df['right-y'] - asl.df['nose-y']\n",
    "asl.df.head()  # the new feature 'grnd-ry' is now in the frames dictionary"
   ]
  },
  {
   "cell_type": "markdown",
   "metadata": {},
   "source": [
    "##### Try it!"
   ]
  },
  {
   "cell_type": "code",
   "execution_count": 4,
   "metadata": {},
   "outputs": [
    {
     "name": "stdout",
     "output_type": "stream",
     "text": [
      "asl.df sample\n"
     ]
    },
    {
     "data": {
      "text/html": [
       "<div>\n",
       "<table border=\"1\" class=\"dataframe\">\n",
       "  <thead>\n",
       "    <tr style=\"text-align: right;\">\n",
       "      <th></th>\n",
       "      <th></th>\n",
       "      <th>left-x</th>\n",
       "      <th>left-y</th>\n",
       "      <th>right-x</th>\n",
       "      <th>right-y</th>\n",
       "      <th>nose-x</th>\n",
       "      <th>nose-y</th>\n",
       "      <th>speaker</th>\n",
       "      <th>grnd-ry</th>\n",
       "      <th>grnd-rx</th>\n",
       "      <th>grnd-ly</th>\n",
       "      <th>grnd-lx</th>\n",
       "    </tr>\n",
       "    <tr>\n",
       "      <th>video</th>\n",
       "      <th>frame</th>\n",
       "      <th></th>\n",
       "      <th></th>\n",
       "      <th></th>\n",
       "      <th></th>\n",
       "      <th></th>\n",
       "      <th></th>\n",
       "      <th></th>\n",
       "      <th></th>\n",
       "      <th></th>\n",
       "      <th></th>\n",
       "      <th></th>\n",
       "    </tr>\n",
       "  </thead>\n",
       "  <tbody>\n",
       "    <tr>\n",
       "      <th rowspan=\"5\" valign=\"top\">98</th>\n",
       "      <th>0</th>\n",
       "      <td>149</td>\n",
       "      <td>181</td>\n",
       "      <td>170</td>\n",
       "      <td>175</td>\n",
       "      <td>161</td>\n",
       "      <td>62</td>\n",
       "      <td>woman-1</td>\n",
       "      <td>113</td>\n",
       "      <td>9</td>\n",
       "      <td>119</td>\n",
       "      <td>-12</td>\n",
       "    </tr>\n",
       "    <tr>\n",
       "      <th>1</th>\n",
       "      <td>149</td>\n",
       "      <td>181</td>\n",
       "      <td>170</td>\n",
       "      <td>175</td>\n",
       "      <td>161</td>\n",
       "      <td>62</td>\n",
       "      <td>woman-1</td>\n",
       "      <td>113</td>\n",
       "      <td>9</td>\n",
       "      <td>119</td>\n",
       "      <td>-12</td>\n",
       "    </tr>\n",
       "    <tr>\n",
       "      <th>2</th>\n",
       "      <td>149</td>\n",
       "      <td>181</td>\n",
       "      <td>170</td>\n",
       "      <td>175</td>\n",
       "      <td>161</td>\n",
       "      <td>62</td>\n",
       "      <td>woman-1</td>\n",
       "      <td>113</td>\n",
       "      <td>9</td>\n",
       "      <td>119</td>\n",
       "      <td>-12</td>\n",
       "    </tr>\n",
       "    <tr>\n",
       "      <th>3</th>\n",
       "      <td>149</td>\n",
       "      <td>181</td>\n",
       "      <td>170</td>\n",
       "      <td>175</td>\n",
       "      <td>161</td>\n",
       "      <td>62</td>\n",
       "      <td>woman-1</td>\n",
       "      <td>113</td>\n",
       "      <td>9</td>\n",
       "      <td>119</td>\n",
       "      <td>-12</td>\n",
       "    </tr>\n",
       "    <tr>\n",
       "      <th>4</th>\n",
       "      <td>149</td>\n",
       "      <td>181</td>\n",
       "      <td>170</td>\n",
       "      <td>175</td>\n",
       "      <td>161</td>\n",
       "      <td>62</td>\n",
       "      <td>woman-1</td>\n",
       "      <td>113</td>\n",
       "      <td>9</td>\n",
       "      <td>119</td>\n",
       "      <td>-12</td>\n",
       "    </tr>\n",
       "  </tbody>\n",
       "</table>\n",
       "</div>"
      ],
      "text/plain": [
       "             left-x  left-y  right-x  right-y  nose-x  nose-y  speaker  \\\n",
       "video frame                                                              \n",
       "98    0         149     181      170      175     161      62  woman-1   \n",
       "      1         149     181      170      175     161      62  woman-1   \n",
       "      2         149     181      170      175     161      62  woman-1   \n",
       "      3         149     181      170      175     161      62  woman-1   \n",
       "      4         149     181      170      175     161      62  woman-1   \n",
       "\n",
       "             grnd-ry  grnd-rx  grnd-ly  grnd-lx  \n",
       "video frame                                      \n",
       "98    0          113        9      119      -12  \n",
       "      1          113        9      119      -12  \n",
       "      2          113        9      119      -12  \n",
       "      3          113        9      119      -12  \n",
       "      4          113        9      119      -12  "
      ]
     },
     "metadata": {},
     "output_type": "display_data"
    },
    {
     "data": {
      "text/html": [
       "<font color=green>Correct!</font><br/>"
      ],
      "text/plain": [
       "<IPython.core.display.HTML object>"
      ]
     },
     "execution_count": 4,
     "metadata": {},
     "output_type": "execute_result"
    }
   ],
   "source": [
    "from asl_utils import test_features_tryit\n",
    "asl.df['grnd-rx'] = asl.df['right-x'] - asl.df['nose-x']\n",
    "asl.df['grnd-ly'] = asl.df['left-y'] - asl.df['nose-y']\n",
    "asl.df['grnd-lx'] = asl.df['left-x'] - asl.df['nose-x']\n",
    "\n",
    "# test the code\n",
    "test_features_tryit(asl)"
   ]
  },
  {
   "cell_type": "code",
   "execution_count": 5,
   "metadata": {},
   "outputs": [
    {
     "data": {
      "text/plain": [
       "[9, 113, -12, 119]"
      ]
     },
     "execution_count": 5,
     "metadata": {},
     "output_type": "execute_result"
    }
   ],
   "source": [
    "# collect the features into a list\n",
    "features_ground = ['grnd-rx','grnd-ry','grnd-lx','grnd-ly']\n",
    " #show a single set of features for a given (video, frame) tuple\n",
    "[asl.df.ix[98,1][v] for v in features_ground]"
   ]
  },
  {
   "cell_type": "markdown",
   "metadata": {},
   "source": [
    "##### Build the training set\n",
    "Now that we have a feature list defined, we can pass that list to the `build_training` method to collect the features for all the words in the training set.  Each word in the training set has multiple examples from various videos.  Below we can see the unique words that have been loaded into the training set:"
   ]
  },
  {
   "cell_type": "code",
   "execution_count": 6,
   "metadata": {
    "collapsed": true,
    "scrolled": true
   },
   "outputs": [],
   "source": [
    "training = asl.build_training(features_ground)\n"
   ]
  },
  {
   "cell_type": "markdown",
   "metadata": {},
   "source": [
    "## The training data in `training` is an object of class `WordsData` defined in the `asl_data` module.  in addition to the `words` list, data can be accessed with the `get_all_sequences`, `get_all_Xlengths`, `get_word_sequences`, and `get_word_Xlengths` methods. We need the `get_word_Xlengths` method to train multiple sequences with the `hmmlearn` library.  In the following example, notice that there are two lists; the first is a concatenation of all the sequences(the X portion) and the second is a list of the sequence lengths(the Lengths portion)."
   ]
  },
  {
   "cell_type": "markdown",
   "metadata": {},
   "source": [
    "###### More feature sets\n",
    "So far we have a simple feature set that is enough to get started modeling.  However, we might get better results if we manipulate the raw values a bit more, so we will go ahead and set up some other options now for experimentation later.  For example, we could normalize each speaker's range of motion with grouped statistics using [Pandas stats](http://pandas.pydata.org/pandas-docs/stable/api.html#api-dataframe-stats) functions and [pandas groupby](http://pandas.pydata.org/pandas-docs/stable/generated/pandas.DataFrame.groupby.html).  Below is an example for finding the means of all speaker subgroups."
   ]
  },
  {
   "cell_type": "code",
   "execution_count": 7,
   "metadata": {
    "scrolled": true
   },
   "outputs": [
    {
     "data": {
      "text/html": [
       "<div>\n",
       "<table border=\"1\" class=\"dataframe\">\n",
       "  <thead>\n",
       "    <tr style=\"text-align: right;\">\n",
       "      <th></th>\n",
       "      <th>left-x</th>\n",
       "      <th>left-y</th>\n",
       "      <th>right-x</th>\n",
       "      <th>right-y</th>\n",
       "      <th>nose-x</th>\n",
       "      <th>nose-y</th>\n",
       "      <th>grnd-ry</th>\n",
       "      <th>grnd-rx</th>\n",
       "      <th>grnd-ly</th>\n",
       "      <th>grnd-lx</th>\n",
       "    </tr>\n",
       "    <tr>\n",
       "      <th>speaker</th>\n",
       "      <th></th>\n",
       "      <th></th>\n",
       "      <th></th>\n",
       "      <th></th>\n",
       "      <th></th>\n",
       "      <th></th>\n",
       "      <th></th>\n",
       "      <th></th>\n",
       "      <th></th>\n",
       "      <th></th>\n",
       "    </tr>\n",
       "  </thead>\n",
       "  <tbody>\n",
       "    <tr>\n",
       "      <th>man-1</th>\n",
       "      <td>206.248203</td>\n",
       "      <td>218.679449</td>\n",
       "      <td>155.464350</td>\n",
       "      <td>150.371031</td>\n",
       "      <td>175.031756</td>\n",
       "      <td>61.642600</td>\n",
       "      <td>88.728430</td>\n",
       "      <td>-19.567406</td>\n",
       "      <td>157.036848</td>\n",
       "      <td>31.216447</td>\n",
       "    </tr>\n",
       "    <tr>\n",
       "      <th>woman-1</th>\n",
       "      <td>164.661438</td>\n",
       "      <td>161.271242</td>\n",
       "      <td>151.017865</td>\n",
       "      <td>117.332462</td>\n",
       "      <td>162.655120</td>\n",
       "      <td>57.245098</td>\n",
       "      <td>60.087364</td>\n",
       "      <td>-11.637255</td>\n",
       "      <td>104.026144</td>\n",
       "      <td>2.006318</td>\n",
       "    </tr>\n",
       "    <tr>\n",
       "      <th>woman-2</th>\n",
       "      <td>183.214509</td>\n",
       "      <td>176.527232</td>\n",
       "      <td>156.866295</td>\n",
       "      <td>119.835714</td>\n",
       "      <td>170.318973</td>\n",
       "      <td>58.022098</td>\n",
       "      <td>61.813616</td>\n",
       "      <td>-13.452679</td>\n",
       "      <td>118.505134</td>\n",
       "      <td>12.895536</td>\n",
       "    </tr>\n",
       "  </tbody>\n",
       "</table>\n",
       "</div>"
      ],
      "text/plain": [
       "             left-x      left-y     right-x     right-y      nose-x  \\\n",
       "speaker                                                               \n",
       "man-1    206.248203  218.679449  155.464350  150.371031  175.031756   \n",
       "woman-1  164.661438  161.271242  151.017865  117.332462  162.655120   \n",
       "woman-2  183.214509  176.527232  156.866295  119.835714  170.318973   \n",
       "\n",
       "            nose-y    grnd-ry    grnd-rx     grnd-ly    grnd-lx  \n",
       "speaker                                                          \n",
       "man-1    61.642600  88.728430 -19.567406  157.036848  31.216447  \n",
       "woman-1  57.245098  60.087364 -11.637255  104.026144   2.006318  \n",
       "woman-2  58.022098  61.813616 -13.452679  118.505134  12.895536  "
      ]
     },
     "execution_count": 7,
     "metadata": {},
     "output_type": "execute_result"
    }
   ],
   "source": [
    "df_means = asl.df.groupby('speaker').mean()\n",
    "df_means"
   ]
  },
  {
   "cell_type": "markdown",
   "metadata": {},
   "source": [
    "To select a mean that matches by speaker, use the pandas [map](http://pandas.pydata.org/pandas-docs/stable/generated/pandas.Series.map.html) method:"
   ]
  },
  {
   "cell_type": "code",
   "execution_count": 8,
   "metadata": {},
   "outputs": [
    {
     "data": {
      "text/html": [
       "<div>\n",
       "<table border=\"1\" class=\"dataframe\">\n",
       "  <thead>\n",
       "    <tr style=\"text-align: right;\">\n",
       "      <th></th>\n",
       "      <th></th>\n",
       "      <th>left-x</th>\n",
       "      <th>left-y</th>\n",
       "      <th>right-x</th>\n",
       "      <th>right-y</th>\n",
       "      <th>nose-x</th>\n",
       "      <th>nose-y</th>\n",
       "      <th>speaker</th>\n",
       "      <th>grnd-ry</th>\n",
       "      <th>grnd-rx</th>\n",
       "      <th>grnd-ly</th>\n",
       "      <th>grnd-lx</th>\n",
       "      <th>left-x-mean</th>\n",
       "    </tr>\n",
       "    <tr>\n",
       "      <th>video</th>\n",
       "      <th>frame</th>\n",
       "      <th></th>\n",
       "      <th></th>\n",
       "      <th></th>\n",
       "      <th></th>\n",
       "      <th></th>\n",
       "      <th></th>\n",
       "      <th></th>\n",
       "      <th></th>\n",
       "      <th></th>\n",
       "      <th></th>\n",
       "      <th></th>\n",
       "      <th></th>\n",
       "    </tr>\n",
       "  </thead>\n",
       "  <tbody>\n",
       "    <tr>\n",
       "      <th rowspan=\"5\" valign=\"top\">98</th>\n",
       "      <th>0</th>\n",
       "      <td>149</td>\n",
       "      <td>181</td>\n",
       "      <td>170</td>\n",
       "      <td>175</td>\n",
       "      <td>161</td>\n",
       "      <td>62</td>\n",
       "      <td>woman-1</td>\n",
       "      <td>113</td>\n",
       "      <td>9</td>\n",
       "      <td>119</td>\n",
       "      <td>-12</td>\n",
       "      <td>164.661438</td>\n",
       "    </tr>\n",
       "    <tr>\n",
       "      <th>1</th>\n",
       "      <td>149</td>\n",
       "      <td>181</td>\n",
       "      <td>170</td>\n",
       "      <td>175</td>\n",
       "      <td>161</td>\n",
       "      <td>62</td>\n",
       "      <td>woman-1</td>\n",
       "      <td>113</td>\n",
       "      <td>9</td>\n",
       "      <td>119</td>\n",
       "      <td>-12</td>\n",
       "      <td>164.661438</td>\n",
       "    </tr>\n",
       "    <tr>\n",
       "      <th>2</th>\n",
       "      <td>149</td>\n",
       "      <td>181</td>\n",
       "      <td>170</td>\n",
       "      <td>175</td>\n",
       "      <td>161</td>\n",
       "      <td>62</td>\n",
       "      <td>woman-1</td>\n",
       "      <td>113</td>\n",
       "      <td>9</td>\n",
       "      <td>119</td>\n",
       "      <td>-12</td>\n",
       "      <td>164.661438</td>\n",
       "    </tr>\n",
       "    <tr>\n",
       "      <th>3</th>\n",
       "      <td>149</td>\n",
       "      <td>181</td>\n",
       "      <td>170</td>\n",
       "      <td>175</td>\n",
       "      <td>161</td>\n",
       "      <td>62</td>\n",
       "      <td>woman-1</td>\n",
       "      <td>113</td>\n",
       "      <td>9</td>\n",
       "      <td>119</td>\n",
       "      <td>-12</td>\n",
       "      <td>164.661438</td>\n",
       "    </tr>\n",
       "    <tr>\n",
       "      <th>4</th>\n",
       "      <td>149</td>\n",
       "      <td>181</td>\n",
       "      <td>170</td>\n",
       "      <td>175</td>\n",
       "      <td>161</td>\n",
       "      <td>62</td>\n",
       "      <td>woman-1</td>\n",
       "      <td>113</td>\n",
       "      <td>9</td>\n",
       "      <td>119</td>\n",
       "      <td>-12</td>\n",
       "      <td>164.661438</td>\n",
       "    </tr>\n",
       "  </tbody>\n",
       "</table>\n",
       "</div>"
      ],
      "text/plain": [
       "             left-x  left-y  right-x  right-y  nose-x  nose-y  speaker  \\\n",
       "video frame                                                              \n",
       "98    0         149     181      170      175     161      62  woman-1   \n",
       "      1         149     181      170      175     161      62  woman-1   \n",
       "      2         149     181      170      175     161      62  woman-1   \n",
       "      3         149     181      170      175     161      62  woman-1   \n",
       "      4         149     181      170      175     161      62  woman-1   \n",
       "\n",
       "             grnd-ry  grnd-rx  grnd-ly  grnd-lx  left-x-mean  \n",
       "video frame                                                   \n",
       "98    0          113        9      119      -12   164.661438  \n",
       "      1          113        9      119      -12   164.661438  \n",
       "      2          113        9      119      -12   164.661438  \n",
       "      3          113        9      119      -12   164.661438  \n",
       "      4          113        9      119      -12   164.661438  "
      ]
     },
     "execution_count": 8,
     "metadata": {},
     "output_type": "execute_result"
    }
   ],
   "source": [
    "asl.df['left-x-mean']= asl.df['speaker'].map(df_means['left-x'])\n",
    "asl.df.head()"
   ]
  },
  {
   "cell_type": "markdown",
   "metadata": {},
   "source": [
    "##### Try it!"
   ]
  },
  {
   "cell_type": "code",
   "execution_count": 9,
   "metadata": {},
   "outputs": [
    {
     "name": "stdout",
     "output_type": "stream",
     "text": [
      "df_std\n"
     ]
    },
    {
     "data": {
      "text/html": [
       "<div>\n",
       "<table border=\"1\" class=\"dataframe\">\n",
       "  <thead>\n",
       "    <tr style=\"text-align: right;\">\n",
       "      <th></th>\n",
       "      <th>left-x</th>\n",
       "      <th>left-y</th>\n",
       "      <th>right-x</th>\n",
       "      <th>right-y</th>\n",
       "      <th>nose-x</th>\n",
       "      <th>nose-y</th>\n",
       "      <th>grnd-ry</th>\n",
       "      <th>grnd-rx</th>\n",
       "      <th>grnd-ly</th>\n",
       "      <th>grnd-lx</th>\n",
       "      <th>left-x-mean</th>\n",
       "    </tr>\n",
       "    <tr>\n",
       "      <th>speaker</th>\n",
       "      <th></th>\n",
       "      <th></th>\n",
       "      <th></th>\n",
       "      <th></th>\n",
       "      <th></th>\n",
       "      <th></th>\n",
       "      <th></th>\n",
       "      <th></th>\n",
       "      <th></th>\n",
       "      <th></th>\n",
       "      <th></th>\n",
       "    </tr>\n",
       "  </thead>\n",
       "  <tbody>\n",
       "    <tr>\n",
       "      <th>man-1</th>\n",
       "      <td>15.154425</td>\n",
       "      <td>36.328485</td>\n",
       "      <td>18.901917</td>\n",
       "      <td>54.902340</td>\n",
       "      <td>6.654573</td>\n",
       "      <td>5.520045</td>\n",
       "      <td>53.487999</td>\n",
       "      <td>20.269032</td>\n",
       "      <td>36.572749</td>\n",
       "      <td>15.080360</td>\n",
       "      <td>0.0</td>\n",
       "    </tr>\n",
       "    <tr>\n",
       "      <th>woman-1</th>\n",
       "      <td>17.573442</td>\n",
       "      <td>26.594521</td>\n",
       "      <td>16.459943</td>\n",
       "      <td>34.667787</td>\n",
       "      <td>3.549392</td>\n",
       "      <td>3.538330</td>\n",
       "      <td>33.972660</td>\n",
       "      <td>16.764706</td>\n",
       "      <td>27.117393</td>\n",
       "      <td>17.328941</td>\n",
       "      <td>0.0</td>\n",
       "    </tr>\n",
       "    <tr>\n",
       "      <th>woman-2</th>\n",
       "      <td>15.388711</td>\n",
       "      <td>28.825025</td>\n",
       "      <td>14.890288</td>\n",
       "      <td>39.649111</td>\n",
       "      <td>4.099760</td>\n",
       "      <td>3.416167</td>\n",
       "      <td>39.128572</td>\n",
       "      <td>16.191324</td>\n",
       "      <td>29.320655</td>\n",
       "      <td>15.050938</td>\n",
       "      <td>0.0</td>\n",
       "    </tr>\n",
       "  </tbody>\n",
       "</table>\n",
       "</div>"
      ],
      "text/plain": [
       "            left-x     left-y    right-x    right-y    nose-x    nose-y  \\\n",
       "speaker                                                                   \n",
       "man-1    15.154425  36.328485  18.901917  54.902340  6.654573  5.520045   \n",
       "woman-1  17.573442  26.594521  16.459943  34.667787  3.549392  3.538330   \n",
       "woman-2  15.388711  28.825025  14.890288  39.649111  4.099760  3.416167   \n",
       "\n",
       "           grnd-ry    grnd-rx    grnd-ly    grnd-lx  left-x-mean  \n",
       "speaker                                                           \n",
       "man-1    53.487999  20.269032  36.572749  15.080360          0.0  \n",
       "woman-1  33.972660  16.764706  27.117393  17.328941          0.0  \n",
       "woman-2  39.128572  16.191324  29.320655  15.050938          0.0  "
      ]
     },
     "metadata": {},
     "output_type": "display_data"
    },
    {
     "data": {
      "text/html": [
       "<font color=green>Correct!</font><br/>"
      ],
      "text/plain": [
       "<IPython.core.display.HTML object>"
      ]
     },
     "execution_count": 9,
     "metadata": {},
     "output_type": "execute_result"
    }
   ],
   "source": [
    "from asl_utils import test_std_tryit\n",
    "# Create a dataframe named `df_std` with standard deviations grouped by speaker\n",
    "df_std = asl.df.groupby('speaker').std()\n",
    "test_std_tryit(df_std)"
   ]
  },
  {
   "cell_type": "markdown",
   "metadata": {},
   "source": [
    "<a id='part1_submission'></a>\n",
    "### Features Implementation Submission\n",
    "Implement four feature sets and answer the question that follows.\n",
    "- normalized Cartesian coordinates\n",
    "    - use *mean* and *standard deviation* statistics and the [standard score](https://en.wikipedia.org/wiki/Standard_score) equation to account for speakers with different heights and arm length\n",
    "    \n",
    "- polar coordinates\n",
    "    - calculate polar coordinates with [Cartesian to polar equations](https://en.wikipedia.org/wiki/Polar_coordinate_system#Converting_between_polar_and_Cartesian_coordinates)\n",
    "    - use the [np.arctan2](https://docs.scipy.org/doc/numpy-1.10.0/reference/generated/numpy.arctan2.html) function and *swap the x and y axes* to move the $0$ to $2\\pi$ discontinuity to 12 o'clock instead of 3 o'clock;  in other words, the normal break in radians value from $0$ to $2\\pi$ occurs directly to the left of the speaker's nose, which may be in the signing area and interfere with results.  By swapping the x and y axes, that discontinuity move to directly above the speaker's head, an area not generally used in signing.\n",
    "\n",
    "- delta difference\n",
    "    - as described in Thad's lecture, use the difference in values between one frame and the next frames as features\n",
    "    - pandas [diff method](http://pandas.pydata.org/pandas-docs/stable/generated/pandas.DataFrame.diff.html) and [fillna method](http://pandas.pydata.org/pandas-docs/stable/generated/pandas.DataFrame.fillna.html) will be helpful for this one\n",
    "\n",
    "- custom features\n",
    "    - These are your own design; combine techniques used above or come up with something else entirely. We look forward to seeing what you come up with! \n",
    "    Some ideas to get you started:\n",
    "        - normalize using a [feature scaling equation](https://en.wikipedia.org/wiki/Feature_scaling)\n",
    "        - normalize the polar coordinates\n",
    "        - adding additional deltas\n"
   ]
  },
  {
   "cell_type": "code",
   "execution_count": 10,
   "metadata": {
    "collapsed": true
   },
   "outputs": [],
   "source": [
    "# add features for normalized by speaker values of left, right, x, y\n",
    "# Name these 'norm-rx', 'norm-ry', 'norm-lx', and 'norm-ly'\n",
    "# using Z-score scaling (X-Xmean)/Xstd\n",
    "asl.df['left-x-std']= asl.df['speaker'].map(df_std['left-x'])\n",
    "asl.df['right-x-std']= asl.df['speaker'].map(df_std['right-x'])\n",
    "asl.df['left-y-std']= asl.df['speaker'].map(df_std['left-y'])\n",
    "asl.df['right-y-std']= asl.df['speaker'].map(df_std['right-y'])\n",
    "\n",
    "asl.df['norm-lx'] = (asl.df['left-x']-asl.df['left-x-mean'])/asl.df['left-x-std']\n",
    "asl.df['right-x-mean']= asl.df['speaker'].map(df_means['right-x'])\n",
    "asl.df['norm-rx'] = (asl.df['right-x']-asl.df['right-x-mean'])/asl.df['right-x-std']\n",
    "asl.df['left-y-mean']= asl.df['speaker'].map(df_means['left-y'])\n",
    "asl.df['norm-ly'] = (asl.df['left-y']-asl.df['left-y-mean'])/asl.df['left-y-std']\n",
    "asl.df['right-y-mean']= asl.df['speaker'].map(df_means['right-y'])\n",
    "asl.df['norm-ry'] = (asl.df['right-y']-asl.df['right-y-mean'])/asl.df['right-y-std']\n",
    "\n",
    "\n",
    "features_norm = ['norm-rx', 'norm-ry', 'norm-lx','norm-ly']"
   ]
  },
  {
   "cell_type": "code",
   "execution_count": 11,
   "metadata": {
    "collapsed": true
   },
   "outputs": [],
   "source": [
    "# add features for polar coordinate values where the nose is the origin\n",
    "# Name these 'polar-rr', 'polar-rtheta', 'polar-lr', and 'polar-ltheta'\n",
    "# Note that 'polar-rr' and 'polar-rtheta' refer to the radius and angle\n",
    "asl.df['polar-rr'] = np.sqrt(asl.df['grnd-rx']**2 + asl.df['grnd-ry']**2)\n",
    "asl.df['polar-lr'] = np.sqrt(asl.df['grnd-lx']**2 + asl.df['grnd-ly']**2)\n",
    "asl.df['polar-rtheta'] = np.arctan2(asl.df['grnd-rx'],asl.df['grnd-ry'])\n",
    "asl.df['polar-ltheta'] = np.arctan2(asl.df['grnd-lx'],asl.df['grnd-ly'])\n",
    "features_polar = ['polar-rr', 'polar-rtheta', 'polar-lr', 'polar-ltheta']\n"
   ]
  },
  {
   "cell_type": "code",
   "execution_count": 12,
   "metadata": {
    "collapsed": true
   },
   "outputs": [],
   "source": [
    "# add features for left, right, x, y differences by one time step, i.e. the \"delta\" values discussed in the lecture\n",
    "# Name these 'delta-rx', 'delta-ry', 'delta-lx', and 'delta-ly'\n",
    "asl.df['delta-rx'] = asl.df['right-x'].diff()\n",
    "asl.df['delta-lx'] = asl.df['left-x'].diff()\n",
    "asl.df['delta-ry'] = asl.df['right-y'].diff()\n",
    "asl.df['delta-ly'] = asl.df['left-y'].diff()\n",
    "\n",
    "asl.df['delta-ly'] = asl.df['delta-ly'].fillna(0)\n",
    "asl.df['delta-ry'] = asl.df['delta-ry'].fillna(0)\n",
    "asl.df['delta-lx'] = asl.df['delta-lx'].fillna(0)\n",
    "asl.df['delta-rx'] = asl.df['delta-rx'].fillna(0)\n",
    "features_delta = ['delta-rx', 'delta-ry', 'delta-lx', 'delta-ly']\n"
   ]
  },
  {
   "cell_type": "code",
   "execution_count": 28,
   "metadata": {
    "collapsed": true
   },
   "outputs": [],
   "source": [
    "# add features of your own design, which may be a combination of the above or something else\n",
    "# Name these whatever you would like\n",
    "asl.df['delta-lr-x']= asl.df['norm-lx']-asl.df['norm-rx']\n",
    "asl.df['delta-lr-y']= asl.df['norm-ly']-asl.df['norm-ry']\n",
    "\n",
    "df_std = asl.df.groupby('speaker').std()\n",
    "df_means = asl.df.groupby('speaker').mean()\n",
    "\n",
    "asl.df['polar-rr-mean'] = asl.df['speaker'].map(df_means['polar-rr'])\n",
    "asl.df['polar-rr-std'] = asl.df['speaker'].map(df_std['polar-rr'])\n",
    "asl.df['norm-polar-rr'] = (asl.df['polar-rr']-asl.df['polar-rr-mean'])/asl.df['polar-rr-std']\n",
    "asl.df['polar-lr-mean'] = asl.df['speaker'].map(df_means['polar-lr'])\n",
    "asl.df['polar-lr-std'] = asl.df['speaker'].map(df_std['polar-lr'])\n",
    "asl.df['norm-polar-lr'] = (asl.df['polar-lr']-asl.df['polar-lr-mean'])/asl.df['polar-lr-std']\n",
    "asl.df['polar-rtheta-mean'] = asl.df['speaker'].map(df_means['polar-rtheta'])\n",
    "asl.df['polar-rtheta-std'] = asl.df['speaker'].map(df_std['polar-rtheta'])\n",
    "asl.df['norm-polar-rtheta'] = (asl.df['polar-rtheta']-asl.df['polar-rtheta-mean'])/asl.df['polar-rtheta-std']\n",
    "asl.df['polar-ltheta-mean'] = asl.df['speaker'].map(df_means['polar-ltheta'])\n",
    "asl.df['polar-ltheta-std'] = asl.df['speaker'].map(df_std['polar-ltheta'])\n",
    "asl.df['norm-polar-ltheta'] = (asl.df['polar-ltheta']-asl.df['polar-ltheta-mean'])/asl.df['polar-ltheta-std']\n",
    "\n",
    "asl.df['norm-polar-rr-diff'] = asl.df['norm-polar-rr'].diff()\n",
    "asl.df['norm-polar-lr-diff'] = asl.df['norm-polar-lr'].diff()\n",
    "asl.df['norm-polar-rtheta-diff'] = asl.df['norm-polar-rtheta'].diff()\n",
    "asl.df['norm-polar-ltheta-diff'] = asl.df['norm-polar-ltheta'].diff()\n",
    "\n",
    "asl.df['norm-polar-rr-diff'] = asl.df['norm-polar-rr-diff'].fillna(0)\n",
    "asl.df['norm-polar-lr-diff'] = asl.df['norm-polar-lr-diff'].fillna(0)\n",
    "asl.df['norm-polar-rtheta-diff'] = asl.df['norm-polar-rtheta-diff'].fillna(0)\n",
    "asl.df['norm-polar-ltheta-diff'] = asl.df['norm-polar-ltheta-diff'].fillna(0)\n",
    "# define a list named 'features_custom' for building the training set\n",
    "features_custom = ['delta-lr-x', 'delta-lr-y','norm-polar-rr','norm-polar-lr','norm-polar-rtheta',\n",
    "                  'norm-polar-ltheta']\n",
    "features_custom1 = ['norm-polar-rr','norm-polar-lr','norm-polar-rtheta','norm-polar-ltheta']\n",
    "features_custom2 = ['delta-lr-x', 'delta-lr-y']\n",
    "features_custom3 = ['norm-polar-rr-diff','norm-polar-lr-diff','norm-polar-rtheta-diff','norm-polar-ltheta-diff']\n",
    "features_custom4 = ['delta-lr-x', 'delta-lr-y','norm-polar-rr-diff','norm-polar-lr-diff','norm-polar-rtheta-diff','norm-polar-ltheta-diff']"
   ]
  },
  {
   "cell_type": "markdown",
   "metadata": {},
   "source": [
    "**Question 1:**  What custom features did you choose for the features_custom set and why?\n",
    "\n",
    "**Answer 1:**\n",
    "Normalized all of the polar coordinate features(features_custom1). This alone is a great improvement from original polar features. Added a pair of new a delta features(features_custom2) representing the differentials between the left and right hands in x,y coordinates. These use the normalized x,y pairs as they performed much better compared with the ground versions. Thus features_custom contains these 6 features(the combination of features_custom1+features_custom2)."
   ]
  },
  {
   "cell_type": "markdown",
   "metadata": {},
   "source": [
    "<a id='part1_test'></a>\n",
    "### Features Unit Testing\n",
    "Run the following unit tests as a sanity check on the defined \"ground\", \"norm\", \"polar\", and 'delta\"\n",
    "feature sets.  The test simply looks for some valid values but is not exhaustive.  However, the project should not be submitted if these tests don't pass."
   ]
  },
  {
   "cell_type": "code",
   "execution_count": 14,
   "metadata": {},
   "outputs": [
    {
     "name": "stderr",
     "output_type": "stream",
     "text": [
      "....\n",
      "----------------------------------------------------------------------\n",
      "Ran 4 tests in 0.021s\n",
      "\n",
      "OK\n"
     ]
    },
    {
     "data": {
      "text/plain": [
       "<unittest.runner.TextTestResult run=4 errors=0 failures=0>"
      ]
     },
     "execution_count": 14,
     "metadata": {},
     "output_type": "execute_result"
    }
   ],
   "source": [
    "import unittest\n",
    "# import numpy as np\n",
    "\n",
    "class TestFeatures(unittest.TestCase):\n",
    "\n",
    "    def test_features_ground(self):\n",
    "        sample = (asl.df.ix[98, 1][features_ground]).tolist()\n",
    "        self.assertEqual(sample, [9, 113, -12, 119])\n",
    "\n",
    "    def test_features_norm(self):\n",
    "        sample = (asl.df.ix[98, 1][features_norm]).tolist()\n",
    "        np.testing.assert_almost_equal(sample, [ 1.153,  1.663, -0.891,  0.742], 3)\n",
    "\n",
    "    def test_features_polar(self):\n",
    "        sample = (asl.df.ix[98,1][features_polar]).tolist()\n",
    "        np.testing.assert_almost_equal(sample, [113.3578, 0.0794, 119.603, -0.1005], 3)\n",
    "\n",
    "    def test_features_delta(self):\n",
    "        sample = (asl.df.ix[98, 0][features_delta]).tolist()\n",
    "        self.assertEqual(sample, [0, 0, 0, 0])\n",
    "        sample = (asl.df.ix[98, 18][features_delta]).tolist()\n",
    "        self.assertTrue(sample in [[-16, -5, -2, 4], [-14, -9, 0, 0]], \"Sample value found was {}\".format(sample))\n",
    "                         \n",
    "suite = unittest.TestLoader().loadTestsFromModule(TestFeatures())\n",
    "unittest.TextTestRunner().run(suite)"
   ]
  },
  {
   "cell_type": "markdown",
   "metadata": {
    "collapsed": true
   },
   "source": [
    "<a id='part2_tutorial'></a>\n",
    "## PART 2: Model Selection\n",
    "### Model Selection Tutorial\n",
    "The objective of Model Selection is to tune the number of states for each word HMM prior to testing on unseen data.  In this section you will explore three methods: \n",
    "- Log likelihood using cross-validation folds (CV)\n",
    "- Bayesian Information Criterion (BIC)\n",
    "- Discriminative Information Criterion (DIC) "
   ]
  },
  {
   "cell_type": "markdown",
   "metadata": {},
   "source": [
    "##### Train a single word\n",
    "Now that we have built a training set with sequence data, we can \"train\" models for each word.  As a simple starting example, we train a single word using Gaussian hidden Markov models (HMM).   By using the `fit` method during training, the [Baum-Welch Expectation-Maximization](https://en.wikipedia.org/wiki/Baum%E2%80%93Welch_algorithm) (EM) algorithm is invoked iteratively to find the best estimate for the model *for the number of hidden states specified* from a group of sample seequences. For this example, we *assume* the correct number of hidden states is 3, but that is just a guess.  How do we know what the \"best\" number of states for training is?  We will need to find some model selection technique to choose the best parameter."
   ]
  },
  {
   "cell_type": "code",
   "execution_count": 15,
   "metadata": {},
   "outputs": [
    {
     "name": "stdout",
     "output_type": "stream",
     "text": [
      "Number of states trained in model for BOOK is 3\n",
      "logL = -2331.1138127433223\n"
     ]
    }
   ],
   "source": [
    "import warnings\n",
    "from hmmlearn.hmm import GaussianHMM\n",
    "\n",
    "def train_a_word(word, num_hidden_states, features):\n",
    "    \n",
    "    warnings.filterwarnings(\"ignore\", category=DeprecationWarning)\n",
    "    training = asl.build_training(features)  \n",
    "    X, lengths = training.get_word_Xlengths(word)\n",
    "    model = GaussianHMM(n_components=num_hidden_states, n_iter=1000).fit(X, lengths)\n",
    "    logL = model.score(X, lengths)\n",
    "    return model, logL\n",
    "\n",
    "demoword = 'BOOK'\n",
    "model, logL = train_a_word(demoword, 3, features_ground)\n",
    "print(\"Number of states trained in model for {} is {}\".format(demoword, model.n_components))\n",
    "print(\"logL = {}\".format(logL))"
   ]
  },
  {
   "cell_type": "markdown",
   "metadata": {},
   "source": [
    "The HMM model has been trained and information can be pulled from the model, including means and variances for each feature and hidden state.  The [log likelihood](http://math.stackexchange.com/questions/892832/why-we-consider-log-likelihood-instead-of-likelihood-in-gaussian-distribution) for any individual sample or group of samples can also be calculated with the `score` method."
   ]
  },
  {
   "cell_type": "code",
   "execution_count": 16,
   "metadata": {},
   "outputs": [
    {
     "name": "stdout",
     "output_type": "stream",
     "text": [
      "Number of states trained in model for BOOK is 3\n",
      "hidden state #0\n",
      "mean =  [ -11.45300909   94.109178     19.03512475  102.2030162 ]\n",
      "variance =  [  77.403668    203.35441965   26.68898447  156.12444034]\n",
      "\n",
      "hidden state #1\n",
      "mean =  [ -3.46504869  50.66686933  14.02391587  52.04731066]\n",
      "variance =  [ 49.12346305  43.04799144  39.35109609  47.24195772]\n",
      "\n",
      "hidden state #2\n",
      "mean =  [ -1.12415027  69.44164191  17.02866283  77.7231196 ]\n",
      "variance =  [ 19.70434594  16.83041492  30.51552305  11.03678246]\n",
      "\n"
     ]
    }
   ],
   "source": [
    "def show_model_stats(word, model):\n",
    "    print(\"Number of states trained in model for {} is {}\".format(word, model.n_components))    \n",
    "    variance=np.array([np.diag(model.covars_[i]) for i in range(model.n_components)])    \n",
    "    for i in range(model.n_components):  # for each hidden state\n",
    "        print(\"hidden state #{}\".format(i))\n",
    "        print(\"mean = \", model.means_[i])\n",
    "        print(\"variance = \", variance[i])\n",
    "        print()\n",
    "    \n",
    "show_model_stats(demoword, model)"
   ]
  },
  {
   "cell_type": "markdown",
   "metadata": {},
   "source": [
    "##### Try it!\n",
    "Experiment by changing the feature set, word, and/or num_hidden_states values in the next cell to see changes in values.  "
   ]
  },
  {
   "cell_type": "code",
   "execution_count": 17,
   "metadata": {},
   "outputs": [
    {
     "name": "stdout",
     "output_type": "stream",
     "text": [
      "Number of states trained in model for CHOCOLATE is 9\n",
      "hidden state #0\n",
      "mean =  [-0.72176025 -0.76612935  0.02425832 -0.68928861  0.70105528 -0.26558482]\n",
      "variance =  [ 0.02991007  0.0179546   0.08011348  0.03412389  0.00246381  0.02531215]\n",
      "\n",
      "hidden state #1\n",
      "mean =  [-0.80612295 -1.4664087  -0.39006103 -1.85276178  0.22837912 -0.24573855]\n",
      "variance =  [ 0.04177202  0.00721895  0.00514723  0.00825214  0.01550733  0.00125971]\n",
      "\n",
      "hidden state #2\n",
      "mean =  [-2.27958436 -1.55621931 -0.19977964 -1.742691    0.88419687 -0.38037765]\n",
      "variance =  [ 0.03146217  0.02025232  0.00521642  0.02398488  0.01823874  0.00555508]\n",
      "\n",
      "hidden state #3\n",
      "mean =  [-0.76752987  0.52640743 -0.48498295  0.18304013  0.42868977 -0.42888187]\n",
      "variance =  [ 0.02913256  0.01602523  0.00779297  0.02314987  0.06962902  0.00350123]\n",
      "\n",
      "hidden state #4\n",
      "mean =  [-0.30869152 -0.92410061 -0.01686702 -0.90480175  0.50593628 -0.15155584]\n",
      "variance =  [ 0.01081473  0.0076776   0.00806229  0.00112284  0.00360356  0.00805994]\n",
      "\n",
      "hidden state #5\n",
      "mean =  [-0.54995049 -0.29745896 -0.40457131 -0.61692623  0.34078777 -0.21954278]\n",
      "variance =  [ 0.02033964  0.08445986  0.01436872  0.12670042  0.04570777  0.00796718]\n",
      "\n",
      "hidden state #6\n",
      "mean =  [-1.84515762 -1.00048325 -0.03416802 -0.98228884  0.59401935 -0.66094362]\n",
      "variance =  [ 0.07965     0.01930294  0.01047575  0.0437286   0.02309515  0.00798044]\n",
      "\n",
      "hidden state #7\n",
      "mean =  [ 0.04421532 -1.57405594  0.11299615 -1.50034456  0.06786487  0.02789704]\n",
      "variance =  [ 0.04387179  0.00980668  0.02963251  0.01186615  0.00506033  0.0189267 ]\n",
      "\n",
      "hidden state #8\n",
      "mean =  [-2.80995045 -1.4692571  -0.16329547 -1.60577554  0.93060085 -0.82967374]\n",
      "variance =  [ 0.00800926  0.00335434  0.00484025  0.00530702  0.00345628  0.00893897]\n",
      "\n",
      "logL = 258.4154132201673\n"
     ]
    }
   ],
   "source": [
    "my_testword = 'CHOCOLATE'\n",
    "model, logL = train_a_word(my_testword, 9, features_custom) # Experiment here with different parameters\n",
    "show_model_stats(my_testword, model)\n",
    "print(\"logL = {}\".format(logL))"
   ]
  },
  {
   "cell_type": "markdown",
   "metadata": {},
   "source": [
    "##### Visualize the hidden states\n",
    "We can plot the means and variances for each state and feature.  Try varying the number of states trained for the HMM model and examine the variances.  Are there some models that are \"better\" than others?  How can you tell?  We would like to hear what you think in the classroom online."
   ]
  },
  {
   "cell_type": "code",
   "execution_count": 19,
   "metadata": {
    "collapsed": true
   },
   "outputs": [],
   "source": [
    "%matplotlib inline"
   ]
  },
  {
   "cell_type": "code",
   "execution_count": 20,
   "metadata": {
    "scrolled": true
   },
   "outputs": [
    {
     "data": {
      "image/png": "[encoded data removed]",
      "text/plain": [
       "<matplotlib.figure.Figure at 0x1d831b10048>"
      ]
     },
     "metadata": {},
     "output_type": "display_data"
    },
    {
     "data": {
      "image/png": "[encoded data removed]",
      "text/plain": [
       "<matplotlib.figure.Figure at 0x1d832eb1d68>"
      ]
     },
     "metadata": {},
     "output_type": "display_data"
    },
    {
     "data": {
      "image/png": "[encoded data removed]",
      "text/plain": [
       "<matplotlib.figure.Figure at 0x1d833267d68>"
      ]
     },
     "metadata": {},
     "output_type": "display_data"
    },
    {
     "data": {
      "image/png": "[encoded data removed]",
      "text/plain": [
       "<matplotlib.figure.Figure at 0x1d83359e908>"
      ]
     },
     "metadata": {},
     "output_type": "display_data"
    },
    {
     "data": {
      "image/png": "[encoded data removed]",
      "text/plain": [
       "<matplotlib.figure.Figure at 0x1d8339dff28>"
      ]
     },
     "metadata": {},
     "output_type": "display_data"
    },
    {
     "data": {
      "image/png": "[encoded data removed]",
      "text/plain": [
       "<matplotlib.figure.Figure at 0x1d833da94e0>"
      ]
     },
     "metadata": {},
     "output_type": "display_data"
    }
   ],
   "source": [
    "import math\n",
    "from matplotlib import (cm, pyplot as plt, mlab)\n",
    "\n",
    "def visualize(word, model):\n",
    "    \"\"\" visualize the input model for a particular word \"\"\"\n",
    "    variance=np.array([np.diag(model.covars_[i]) for i in range(model.n_components)])\n",
    "    figures = []\n",
    "    for parm_idx in range(len(model.means_[0])):\n",
    "        xmin = int(min(model.means_[:,parm_idx]) - max(variance[:,parm_idx]))\n",
    "        xmax = int(max(model.means_[:,parm_idx]) + max(variance[:,parm_idx]))\n",
    "        fig, axs = plt.subplots(model.n_components, sharex=True, sharey=False)\n",
    "        colours = cm.rainbow(np.linspace(0, 1, model.n_components))\n",
    "        for i, (ax, colour) in enumerate(zip(axs, colours)):\n",
    "            x = np.linspace(xmin, xmax, 100)\n",
    "            mu = model.means_[i,parm_idx]\n",
    "            sigma = math.sqrt(np.diag(model.covars_[i])[parm_idx])\n",
    "            ax.plot(x, mlab.normpdf(x, mu, sigma), c=colour)\n",
    "            ax.set_title(\"{} feature {} hidden state #{}\".format(word, parm_idx, i))\n",
    "\n",
    "            ax.grid(True)\n",
    "        figures.append(plt)\n",
    "    for p in figures:\n",
    "        p.show()\n",
    "        \n",
    "visualize(my_testword, model)"
   ]
  },
  {
   "cell_type": "markdown",
   "metadata": {},
   "source": [
    "#####  ModelSelector class\n",
    "Review the `SelectorModel` class from the codebase found in the `my_model_selectors.py` module.  It is designed to be a strategy pattern for choosing different model selectors.  For the project submission in this section, subclass `SelectorModel` to implement the following model selectors.  In other words, you will write your own classes/functions in the `my_model_selectors.py` module and run them from this notebook:\n",
    "\n",
    "- `SelectorCV `:  Log likelihood with CV\n",
    "- `SelectorBIC`: BIC \n",
    "- `SelectorDIC`: DIC\n",
    "\n",
    "You will train each word in the training set with a range of values for the number of hidden states, and then score these alternatives with the model selector, choosing the \"best\" according to each strategy. The simple case of training with a constant value for `n_components` can be called using the provided `SelectorConstant` subclass as follow:"
   ]
  },
  {
   "cell_type": "code",
   "execution_count": 21,
   "metadata": {},
   "outputs": [
    {
     "name": "stdout",
     "output_type": "stream",
     "text": [
      "Number of states trained in model for VEGETABLE is 3\n"
     ]
    }
   ],
   "source": [
    "from my_model_selectors import SelectorConstant\n",
    "\n",
    "training = asl.build_training(features_custom)  # Experiment here with different feature sets defined in part 1\n",
    "word = 'VEGETABLE' # Experiment here with different words\n",
    "model = SelectorConstant(training.get_all_sequences(), training.get_all_Xlengths(), word, n_constant=3).select()\n",
    "print(\"Number of states trained in model for {} is {}\".format(word, model.n_components))"
   ]
  },
  {
   "cell_type": "markdown",
   "metadata": {},
   "source": [
    "##### Cross-validation folds\n",
    "If we simply score the model with the Log Likelihood calculated from the feature sequences it has been trained on, we should expect that more complex models will have higher likelihoods. However, that doesn't tell us which would have a better likelihood score on unseen data.  The model will likely be overfit as complexity is added.  To estimate which topology model is better using only the training data, we can compare scores using cross-validation.  One technique for cross-validation is to break the training set into \"folds\" and rotate which fold is left out of training.  The \"left out\" fold scored.  This gives us a proxy method of finding the best model to use on \"unseen data\". In the following example, a set of word sequences is broken into three folds using the [scikit-learn Kfold](http://scikit-learn.org/stable/modules/generated/sklearn.model_selection.KFold.html) class object. When you implement `SelectorCV`, you will use this technique."
   ]
  },
  {
   "cell_type": "code",
   "execution_count": 22,
   "metadata": {
    "scrolled": false
   },
   "outputs": [
    {
     "name": "stdout",
     "output_type": "stream",
     "text": [
      "Train fold indices:[2 3 4 5] Test fold indices:[0 1]\n",
      "Train fold indices:[0 1 4 5] Test fold indices:[2 3]\n",
      "Train fold indices:[0 1 2 3] Test fold indices:[4 5]\n"
     ]
    }
   ],
   "source": [
    "from sklearn.model_selection import KFold\n",
    "from asl_utils import combine_sequences\n",
    "\n",
    "training = asl.build_training(features_ground) # Experiment here with different feature sets\n",
    "word = 'VEGETABLE' # Experiment here with different words\n",
    "word_sequences = training.get_word_sequences(word)\n",
    "all_sequences = training.get_all_sequences()\n",
    "split_method = KFold()\n",
    "for cv_train_idx, cv_test_idx in split_method.split(word_sequences):\n",
    "    print(\"Train fold indices:{} Test fold indices:{}\".format(cv_train_idx, cv_test_idx))  # view indices of the folds"
   ]
  },
  {
   "cell_type": "markdown",
   "metadata": {},
   "source": [
    "**Tip:** In order to run `hmmlearn` training using the X,lengths tuples on the new folds, subsets must be combined based on the indices given for the folds.  A helper utility has been provided in the `asl_utils` module named `combine_sequences` for this purpose."
   ]
  },
  {
   "cell_type": "markdown",
   "metadata": {},
   "source": [
    "##### Scoring models with other criterion\n",
    "Scoring model topologies with **BIC** balances fit and complexity within the training set for each word.  In the BIC equation, a penalty term penalizes complexity to avoid overfitting, so that it is not necessary to also use cross-validation in the selection process.  There are a number of references on the internet for this criterion.  These [slides](http://www2.imm.dtu.dk/courses/02433/doc/ch6_slides.pdf) include a formula you may find helpful for your implementation.\n",
    "\n",
    "The advantages of scoring model topologies with **DIC** over BIC are presented by Alain Biem in this [reference](http://citeseerx.ist.psu.edu/viewdoc/download?doi=10.1.1.58.6208&rep=rep1&type=pdf) (also found [here](https://pdfs.semanticscholar.org/ed3d/7c4a5f607201f3848d4c02dd9ba17c791fc2.pdf)).  DIC scores the discriminant ability of a training set for one word against competing words.  Instead of a penalty term for complexity, it provides a penalty if model liklihoods for non-matching words are too similar to model likelihoods for the correct word in the word set."
   ]
  },
  {
   "cell_type": "markdown",
   "metadata": {},
   "source": [
    "<a id='part2_submission'></a>\n",
    "### Model Selection Implementation Submission\n",
    "Implement `SelectorCV`, `SelectorBIC`, and `SelectorDIC` classes in the `my_model_selectors.py` module.  Run the selectors on the following five words. Then answer the questions about your results.\n",
    "\n",
    "**Tip:** The `hmmlearn` library may not be able to train or score all models.  Implement try/except contructs as necessary to eliminate non-viable models from consideration."
   ]
  },
  {
   "cell_type": "code",
   "execution_count": 18,
   "metadata": {
    "collapsed": true
   },
   "outputs": [],
   "source": [
    "words_to_train = ['FISH','BOOK','VEGETABLE', 'FUTURE', 'JOHN']\n",
    "import timeit"
   ]
  },
  {
   "cell_type": "code",
   "execution_count": 24,
   "metadata": {
    "scrolled": false
   },
   "outputs": [
    {
     "name": "stdout",
     "output_type": "stream",
     "text": [
      "FISH\n",
      "Training complete for FISH with 3 states with time 0.0385224564324842 seconds\n",
      "BOOK\n",
      "Training complete for BOOK with 2 states with time 5.440114988940622 seconds\n",
      "VEGETABLE\n",
      "Training complete for VEGETABLE with 13 states with time 2.368420652985674 seconds\n",
      "FUTURE\n",
      "Training complete for FUTURE with 2 states with time 5.010910192136587 seconds\n",
      "JOHN\n",
      "Training complete for JOHN with 15 states with time 76.11929075264513 seconds\n"
     ]
    }
   ],
   "source": [
    "# Implement SelectorCV in my_model_selector.py\n",
    "from importlib import reload\n",
    "import my_model_selectors\n",
    "reload(my_model_selectors)\n",
    "from my_model_selectors import SelectorCV\n",
    "\n",
    "training = asl.build_training(features_custom)  # Experiment here with different feature sets defined in part 1\n",
    "sequences = training.get_all_sequences()\n",
    "Xlengths = training.get_all_Xlengths()\n",
    "for word in words_to_train:\n",
    "    start = timeit.default_timer()\n",
    "    print(word)\n",
    "    model = SelectorCV(sequences, Xlengths, word, \n",
    "                    min_n_components=2, max_n_components=15, random_state = 14).select()\n",
    "    end = timeit.default_timer()-start\n",
    "    if model is not None:\n",
    "        print(\"Training complete for {} with {} states with time {} seconds\".format(word, model.n_components, end))\n",
    "    else:\n",
    "        print(\"Training \\failed for {}\".format(word))"
   ]
  },
  {
   "cell_type": "code",
   "execution_count": 19,
   "metadata": {
    "scrolled": true
   },
   "outputs": [
    {
     "name": "stdout",
     "output_type": "stream",
     "text": [
      "Training complete for FISH with 3 states with time 0.5003204797503698 seconds\n",
      "Training complete for BOOK with 7 states with time 3.4930081815018643 seconds\n",
      "Training complete for VEGETABLE with 4 states with time 1.1327429359339765 seconds\n",
      "Training complete for FUTURE with 6 states with time 2.1521217992782837 seconds\n",
      "Training complete for JOHN with 15 states with time 34.82315726376846 seconds\n"
     ]
    }
   ],
   "source": [
    "#Implement SelectorBIC in module my_model_selectors.py\n",
    "from importlib import reload\n",
    "import my_model_selectors\n",
    "reload(my_model_selectors)\n",
    "from my_model_selectors import SelectorBIC\n",
    "\n",
    "training = asl.build_training(features_custom)  # Experiment here with different feature sets defined in part 1\n",
    "sequences = training.get_all_sequences()\n",
    "Xlengths = training.get_all_Xlengths()\n",
    "for word in words_to_train:\n",
    "    start = timeit.default_timer()\n",
    "    model = SelectorBIC(sequences, Xlengths, word, min_n_components=2, max_n_components=15, random_state = 14).select()\n",
    "    end = timeit.default_timer()-start\n",
    "    if model is not None:\n",
    "        print(\"Training complete for {} with {} states with time {} seconds\".format(word, model.n_components, end))\n",
    "    else:\n",
    "        print(\"Training failed for {}\".format(word))"
   ]
  },
  {
   "cell_type": "code",
   "execution_count": 20,
   "metadata": {
    "scrolled": false
   },
   "outputs": [
    {
     "name": "stdout",
     "output_type": "stream",
     "text": [
      "Training complete for FISH with 2 states with time 4.6531073582597315 seconds\n",
      "Training complete for BOOK with 15 states with time 8.038467396601163 seconds\n",
      "Training complete for VEGETABLE with 10 states with time 5.542710459163729 seconds\n",
      "Training complete for FUTURE with 15 states with time 6.101846901351649 seconds\n",
      "Training complete for JOHN with 15 states with time 40.740897370100726 seconds\n"
     ]
    }
   ],
   "source": [
    "# Implement SelectorDIC in module my_model_selectors.py\n",
    "from importlib import reload\n",
    "import my_model_selectors\n",
    "reload(my_model_selectors)\n",
    "from my_model_selectors import SelectorDIC\n",
    "\n",
    "training = asl.build_training(features_custom)\n",
    "sequences = training.get_all_sequences()\n",
    "Xlengths = training.get_all_Xlengths()\n",
    "for word in words_to_train:\n",
    "    start = timeit.default_timer()\n",
    "    model = SelectorDIC(sequences, Xlengths, word, \n",
    "                    min_n_components=2, max_n_components=15, random_state = 14).select()\n",
    "    end = timeit.default_timer()-start\n",
    "    if model is not None:\n",
    "        print(\"Training complete for {} with {} states with time {} seconds\".format(word, model.n_components, end))\n",
    "    else:\n",
    "        print(\"Training failed for {}\".format(word))"
   ]
  },
  {
   "cell_type": "markdown",
   "metadata": {},
   "source": [
    "**Question 2:**  Compare and contrast the possible advantages and disadvantages of the various model selectors implemented.\n",
    "\n",
    "**Answer 2:**\n",
    "CV, BIC, DIC run with feature sets custom, custom1, custom2.\n",
    "For custom, BIC is overall fastest on average except for JOHN where it was 10% slower then DIC(this is the slowest, requiring 10 or more in every run as well as being ~ an order of magnitude greater in time than other words across all runs) thus best in speed. BIC also yields 3-7 hidden states(excepting JOHN) where as DIC is >10 except for FISH and CV is very low(2,3,2) but VEGETABLE also high at 13. Based on this, BIC seems best for this set of features.\n",
    "\n",
    "For custom1, BIC is the fastest overall(only beaten again by CV for FISH).For hidden states, CV excels with 2,3,2,3,15 whereas BIC yields 2,7,3,4,15. DIC is >=10 for 4 words. In this case, CV or BIC can be argued for depending on how the size of hidden state space affects your application. \n",
    "\n",
    "For custom2, speed again goes to BIC across the board save FISH(to CV) and hidden states this time are in BIC's favor with JOHN at 10(lone instance it is under 14) and 3 or 4 for the others. CV has 3,4,2,3,14 for state space so in this feature set the clear winner is BIC.\n",
    "\n",
    "It is no surprise that DIC is very slow across all experiments since it is creating many models for every iteration. Overall, without including results of future tests(WER), BIC seems the best choice if regarding all the feature sets and is surely the best for the most comprehensive set(custom)."
   ]
  },
  {
   "cell_type": "markdown",
   "metadata": {},
   "source": [
    "<a id='part2_test'></a>\n",
    "### Model Selector Unit Testing\n",
    "Run the following unit tests as a sanity check on the implemented model selectors.  The test simply looks for valid interfaces  but is not exhaustive. However, the project should not be submitted if these tests don't pass."
   ]
  },
  {
   "cell_type": "code",
   "execution_count": 29,
   "metadata": {},
   "outputs": [
    {
     "name": "stderr",
     "output_type": "stream",
     "text": [
      "....\n",
      "----------------------------------------------------------------------\n",
      "Ran 4 tests in 89.797s\n",
      "\n",
      "OK\n"
     ]
    },
    {
     "data": {
      "text/plain": [
       "<unittest.runner.TextTestResult run=4 errors=0 failures=0>"
      ]
     },
     "execution_count": 29,
     "metadata": {},
     "output_type": "execute_result"
    }
   ],
   "source": [
    "from asl_test_model_selectors import TestSelectors\n",
    "suite = unittest.TestLoader().loadTestsFromModule(TestSelectors())\n",
    "unittest.TextTestRunner().run(suite)"
   ]
  },
  {
   "cell_type": "markdown",
   "metadata": {},
   "source": [
    "<a id='part3_tutorial'></a>\n",
    "## PART 3: Recognizer\n",
    "The objective of this section is to \"put it all together\".  Using the four feature sets created and the three model selectors, you will experiment with the models and present your results.  Instead of training only five specific words as in the previous section, train the entire set with a feature set and model selector strategy.  \n",
    "### Recognizer Tutorial\n",
    "##### Train the full training set\n",
    "The following example trains the entire set with the example `features_ground` and `SelectorConstant` features and model selector.  Use this pattern for you experimentation and final submission cells.\n",
    "\n"
   ]
  },
  {
   "cell_type": "code",
   "execution_count": 21,
   "metadata": {},
   "outputs": [
    {
     "name": "stdout",
     "output_type": "stream",
     "text": [
      "The autoreload extension is already loaded. To reload it, use:\n",
      "  %reload_ext autoreload\n",
      "Number of word models returned = 112\n"
     ]
    }
   ],
   "source": [
    "# autoreload for automatically reloading changes made in my_model_selectors and my_recognizer\n",
    "%load_ext autoreload\n",
    "%autoreload 2\n",
    "\n",
    "from my_model_selectors import SelectorConstant\n",
    "\n",
    "def train_all_words(features, model_selector):\n",
    "    training = asl.build_training(features)  # Experiment here with different feature sets defined in part 1\n",
    "    sequences = training.get_all_sequences()\n",
    "    Xlengths = training.get_all_Xlengths()\n",
    "    model_dict = {}\n",
    "    for word in training.words:\n",
    "        model = model_selector(sequences, Xlengths, word, \n",
    "                        n_constant=3).select()\n",
    "        model_dict[word]=model\n",
    "    return model_dict\n",
    "\n",
    "models = train_all_words(features_ground, SelectorConstant)\n",
    "print(\"Number of word models returned = {}\".format(len(models)))"
   ]
  },
  {
   "cell_type": "markdown",
   "metadata": {},
   "source": [
    "##### Load the test set\n",
    "The `build_test` method in `ASLdb` is similar to the `build_training` method already presented, but there are a few differences:\n",
    "- the object is type `SinglesData` \n",
    "- the internal dictionary keys are the index of the test word rather than the word itself\n",
    "- the getter methods are `get_all_sequences`, `get_all_Xlengths`, `get_item_sequences` and `get_item_Xlengths`"
   ]
  },
  {
   "cell_type": "code",
   "execution_count": 22,
   "metadata": {},
   "outputs": [
    {
     "name": "stdout",
     "output_type": "stream",
     "text": [
      "Number of test set items: 178\n",
      "Number of test set sentences: 40\n"
     ]
    }
   ],
   "source": [
    "test_set = asl.build_test(features_custom)\n",
    "train_set = asl.build_training(features_custom)\n",
    "print(\"Number of test set items: {}\".format(test_set.num_items))\n",
    "print(\"Number of test set sentences: {}\".format(len(test_set.sentences_index)))"
   ]
  },
  {
   "cell_type": "markdown",
   "metadata": {},
   "source": [
    "<a id='part3_submission'></a>\n",
    "### Recognizer Implementation Submission\n",
    "For the final project submission, students must implement a recognizer following guidance in the `my_recognizer.py` module.  Experiment with the four feature sets and the three model selection methods (that's 12 possible combinations). You can add and remove cells for experimentation or run the recognizers locally in some other way during your experiments, but retain the results for your discussion.  For submission, you will provide code cells of **only three** interesting combinations for your discussion (see questions below). At least one of these should produce a word error rate of less than 60%, i.e. WER < 0.60 . \n",
    "\n",
    "**Tip:** The hmmlearn library may not be able to train or score all models.  Implement try/except contructs as necessary to eliminate non-viable models from consideration."
   ]
  },
  {
   "cell_type": "code",
   "execution_count": 23,
   "metadata": {
    "collapsed": true
   },
   "outputs": [],
   "source": [
    "# implement the recognize method in my_recognizer\n",
    "from my_recognizer import *\n",
    "from asl_utils import show_errors"
   ]
  },
  {
   "cell_type": "code",
   "execution_count": 30,
   "metadata": {},
   "outputs": [
    {
     "name": "stdout",
     "output_type": "stream",
     "text": [
      "\n",
      "**** WER = 0.4887640449438202\n",
      "Total correct: 91 out of 178\n",
      "Video  Recognized                                                    Correct\n",
      "=====================================================================================================\n",
      "    2: JOHN WRITE HOMEWORK                                           JOHN WRITE HOMEWORK\n",
      "    7: JOHN *HAVE GO CAN                                             JOHN CAN GO CAN\n",
      "   12: JOHN *CAR *GO1 *HOUSE                                         JOHN CAN GO CAN\n",
      "   21: JOHN *CHOCOLATE WONT *MARY *CAR *CAR *CHICKEN *MARY           JOHN FISH WONT EAT BUT CAN EAT CHICKEN\n",
      "   25: *ANN *IX IX IX IX                                             JOHN LIKE IX IX IX\n",
      "   28: *ANN *IX IX IX IX                                             JOHN LIKE IX IX IX\n",
      "   30: JOHN LIKE *LOVE *LIKE IX                                      JOHN LIKE IX IX IX\n",
      "   36: MARY *JOHN *GIRL *GIVE2 *ANN *MARY                            MARY VEGETABLE KNOW IX LIKE CORN1\n",
      "   40: JOHN *LEAVE *WHO *EAT *MARY                                   JOHN IX THINK MARY LOVE\n",
      "   43: JOHN *FUTURE BUY HOUSE                                        JOHN MUST BUY HOUSE\n",
      "   50: *JOHN *SHOULD BUY CAR *MARY                                   FUTURE JOHN BUY CAR SHOULD\n",
      "   54: JOHN *PREFER *VISIT BUY HOUSE                                 JOHN SHOULD NOT BUY HOUSE\n",
      "   57: JOHN *JOHN *GIVE *IX                                          JOHN DECIDE VISIT MARY\n",
      "   67: JOHN *IX *FUTURE BUY HOUSE                                    JOHN FUTURE NOT BUY HOUSE\n",
      "   71: JOHN WILL *HAVE *FUTURE                                       JOHN WILL VISIT MARY\n",
      "   74: JOHN *MARY VISIT MARY                                         JOHN NOT VISIT MARY\n",
      "   77: ANN BLAME MARY                                                ANN BLAME MARY\n",
      "   84: *JOHN *GIVE1 *YESTERDAY BOOK                                  IX-1P FIND SOMETHING-ONE BOOK\n",
      "   89: JOHN *POSS *THROW *THROW *THROW NEW COAT                      JOHN IX GIVE MAN IX NEW COAT\n",
      "   90: JOHN *GIVE1 IX *GIVE WOMAN BOOK                               JOHN GIVE IX SOMETHING-ONE WOMAN BOOK\n",
      "   92: JOHN *WOMAN IX *IX WOMAN BOOK                                 JOHN GIVE IX SOMETHING-ONE WOMAN BOOK\n",
      "  100: *IX NEW CAR BREAK-DOWN                                        POSS NEW CAR BREAK-DOWN\n",
      "  105: JOHN *MARY                                                    JOHN LEG\n",
      "  107: JOHN POSS FRIEND *TOMORROW *JOHN                              JOHN POSS FRIEND HAVE CANDY\n",
      "  108: WOMAN ARRIVE                                                  WOMAN ARRIVE\n",
      "  113: *JOHN CAR *JOHN *SHOULD *BUY1                                 IX CAR BLUE SUE BUY\n",
      "  119: *JOHN *BUY1 *YESTERDAY CAR *GIVE                              SUE BUY IX CAR BLUE\n",
      "  122: JOHN READ BOOK                                                JOHN READ BOOK\n",
      "  139: JOHN *BUY1 *HOUSE *WHAT BOOK                                  JOHN BUY WHAT YESTERDAY BOOK\n",
      "  142: JOHN BUY YESTERDAY WHAT BOOK                                  JOHN BUY YESTERDAY WHAT BOOK\n",
      "  158: LOVE *WHO WHO                                                 LOVE JOHN WHO\n",
      "  167: JOHN *SHOULD *SAY-1P *MARY MARY                               JOHN IX SAY LOVE MARY\n",
      "  171: JOHN *JOHN BLAME                                              JOHN MARY BLAME\n",
      "  174: *GIVE1 *BOOK GIVE1 *PREFER *CAR                               PEOPLE GROUP GIVE1 JANA TOY\n",
      "  181: *SUE ARRIVE                                                   JOHN ARRIVE\n",
      "  184: *THROW BOY *GIVE1 TEACHER APPLE                               ALL BOY GIVE TEACHER APPLE\n",
      "  189: JOHN *PAST *PREFER BOX                                        JOHN GIVE GIRL BOX\n",
      "  193: JOHN *GIRL *CORN *GO                                          JOHN GIVE GIRL BOX\n",
      "  199: *JOHN CHOCOLATE WHO                                           LIKE CHOCOLATE WHO\n",
      "  201: JOHN *WHO *WHO *WOMAN *NEW HOUSE                              JOHN TELL MARY IX-1P BUY HOUSE\n"
     ]
    }
   ],
   "source": [
    "# Choose a feature set and model selector\n",
    "features = features_custom4 # change as needed\n",
    "model_selector = SelectorBIC # change as needed\n",
    "\n",
    "# Recognize the test set and display the result with the show_errors method\n",
    "models = train_all_words(features, model_selector)\n",
    "test_set = asl.build_test(features)\n",
    "probabilities, guesses = recognize(models, test_set)\n",
    "show_errors(guesses, test_set)"
   ]
  },
  {
   "cell_type": "code",
   "execution_count": 24,
   "metadata": {},
   "outputs": [
    {
     "name": "stdout",
     "output_type": "stream",
     "text": [
      "\n",
      "**** WER = 0.5056179775280899\n",
      "Total correct: 88 out of 178\n",
      "Video  Recognized                                                    Correct\n",
      "=====================================================================================================\n",
      "    2: JOHN WRITE HOMEWORK                                           JOHN WRITE HOMEWORK\n",
      "    7: *SOMETHING-ONE *BUY GO CAN                                    JOHN CAN GO CAN\n",
      "   12: *IX *HAVE *WHAT *HOUSE                                        JOHN CAN GO CAN\n",
      "   21: JOHN *BROTHER WONT *MARY *CAR *CAR *FUTURE *YESTERDAY         JOHN FISH WONT EAT BUT CAN EAT CHICKEN\n",
      "   25: *MARY *IX *GO IX IX                                           JOHN LIKE IX IX IX\n",
      "   28: JOHN *ANN *GO IX *LOVE                                        JOHN LIKE IX IX IX\n",
      "   30: *SHOOT *MARY *MARY *MARY IX                                   JOHN LIKE IX IX IX\n",
      "   36: *JOHN *MARY *YESTERDAY *TELL *MARY *MARY                      MARY VEGETABLE KNOW IX LIKE CORN1\n",
      "   40: *MARY *VISIT *CORN *NOT LOVE                                  JOHN IX THINK MARY LOVE\n",
      "   43: JOHN *POSS BUY HOUSE                                          JOHN MUST BUY HOUSE\n",
      "   50: *SOMETHING-ONE *SEE BUY CAR *IX                               FUTURE JOHN BUY CAR SHOULD\n",
      "   54: JOHN SHOULD *MARY BUY HOUSE                                   JOHN SHOULD NOT BUY HOUSE\n",
      "   57: JOHN *VISIT VISIT *LOVE                                       JOHN DECIDE VISIT MARY\n",
      "   67: JOHN FUTURE NOT BUY HOUSE                                     JOHN FUTURE NOT BUY HOUSE\n",
      "   71: JOHN *FUTURE VISIT MARY                                       JOHN WILL VISIT MARY\n",
      "   74: JOHN NOT VISIT MARY                                           JOHN NOT VISIT MARY\n",
      "   77: *JOHN BLAME MARY                                              ANN BLAME MARY\n",
      "   84: *LOVE *BOX *POSS BOOK                                         IX-1P FIND SOMETHING-ONE BOOK\n",
      "   89: *FUTURE *THROW *THROW *IX IX NEW COAT                         JOHN IX GIVE MAN IX NEW COAT\n",
      "   90: JOHN *FUTURE IX *IX WOMAN BOOK                                JOHN GIVE IX SOMETHING-ONE WOMAN BOOK\n",
      "   92: JOHN GIVE IX *IX WOMAN BOOK                                   JOHN GIVE IX SOMETHING-ONE WOMAN BOOK\n",
      "  100: POSS NEW CAR BREAK-DOWN                                       POSS NEW CAR BREAK-DOWN\n",
      "  105: JOHN *SEE                                                     JOHN LEG\n",
      "  107: *MARY *IX FRIEND *MARY CANDY                                  JOHN POSS FRIEND HAVE CANDY\n",
      "  108: *FUTURE *JOHN                                                 WOMAN ARRIVE\n",
      "  113: *JOHN CAR *IX *MARY *BOX                                      IX CAR BLUE SUE BUY\n",
      "  119: *PREFER *LOVE IX CAR *FINISH                                  SUE BUY IX CAR BLUE\n",
      "  122: JOHN *GIVE1 BOOK                                              JOHN READ BOOK\n",
      "  139: JOHN *BUY1 *HOUSE *JOHN BOOK                                  JOHN BUY WHAT YESTERDAY BOOK\n",
      "  142: JOHN BUY YESTERDAY WHAT BOOK                                  JOHN BUY YESTERDAY WHAT BOOK\n",
      "  158: LOVE *MARY *NOT                                               LOVE JOHN WHO\n",
      "  167: JOHN *JOHN *VISIT *MARY *LOVE                                 JOHN IX SAY LOVE MARY\n",
      "  171: JOHN MARY BLAME                                               JOHN MARY BLAME\n",
      "  174: *NEW *GIVE3 GIVE1 *VISIT *CAR                                 PEOPLE GROUP GIVE1 JANA TOY\n",
      "  181: JOHN ARRIVE                                                   JOHN ARRIVE\n",
      "  184: ALL BOY *GIVE1 TEACHER APPLE                                  ALL BOY GIVE TEACHER APPLE\n",
      "  189: JOHN *VISIT *VISIT *ARRIVE                                    JOHN GIVE GIRL BOX\n",
      "  193: JOHN *IX *GO BOX                                              JOHN GIVE GIRL BOX\n",
      "  199: *JOHN CHOCOLATE *WOMAN                                        LIKE CHOCOLATE WHO\n",
      "  201: JOHN *GIVE1 *IX *WOMAN *NEW HOUSE                             JOHN TELL MARY IX-1P BUY HOUSE\n"
     ]
    }
   ],
   "source": [
    "# Choose a feature set and model selector\n",
    "features = features_custom # change as needed\n",
    "model_selector = SelectorBIC # change as needed\n",
    "\n",
    "# Recognize the test set and display the result with the show_errors method\n",
    "models = train_all_words(features, model_selector)\n",
    "test_set = asl.build_test(features)\n",
    "probabilities, guesses = recognize(models, test_set)\n",
    "show_errors(guesses, test_set)\n"
   ]
  },
  {
   "cell_type": "code",
   "execution_count": 33,
   "metadata": {},
   "outputs": [
    {
     "name": "stdout",
     "output_type": "stream",
     "text": [
      "\n",
      "**** WER = 0.5955056179775281\n",
      "Total correct: 72 out of 178\n",
      "Video  Recognized                                                    Correct\n",
      "=====================================================================================================\n",
      "    2: *WOMAN WRITE *GIVE1                                           JOHN WRITE HOMEWORK\n",
      "    7: *SOMETHING-ONE *BUY GO CAN                                    JOHN CAN GO CAN\n",
      "   12: JOHN *HAVE *NEW *HOUSE                                        JOHN CAN GO CAN\n",
      "   21: JOHN *NEW WONT *MARY *HOUSE *CAR *FUTURE *WRITE               JOHN FISH WONT EAT BUT CAN EAT CHICKEN\n",
      "   25: JOHN *MARY *GO *JOHN *LOVE                                    JOHN LIKE IX IX IX\n",
      "   28: JOHN *JOHN *GO *JOHN *LOVE                                    JOHN LIKE IX IX IX\n",
      "   30: *IX *MARY *MARY *LOVE *SHOOT                                  JOHN LIKE IX IX IX\n",
      "   36: *WHO *NOT *GIVE *TELL *LOVE *MARY                             MARY VEGETABLE KNOW IX LIKE CORN1\n",
      "   40: *LEAVE *JOHN *FUTURE1 *JOHN LOVE                              JOHN IX THINK MARY LOVE\n",
      "   43: JOHN *POSS BUY HOUSE                                          JOHN MUST BUY HOUSE\n",
      "   50: *JOHN *SEE BUY CAR *JOHN                                      FUTURE JOHN BUY CAR SHOULD\n",
      "   54: JOHN SHOULD NOT BUY HOUSE                                     JOHN SHOULD NOT BUY HOUSE\n",
      "   57: *MARY *VISIT *GO MARY                                         JOHN DECIDE VISIT MARY\n",
      "   67: JOHN *IX *JOHN BUY HOUSE                                      JOHN FUTURE NOT BUY HOUSE\n",
      "   71: JOHN *FINISH *GO *BLAME                                       JOHN WILL VISIT MARY\n",
      "   74: JOHN *JOHN *GIVE *LOVE                                        JOHN NOT VISIT MARY\n",
      "   77: *JOHN BLAME MARY                                              ANN BLAME MARY\n",
      "   84: *LOVE *BOX *POSS *COAT                                        IX-1P FIND SOMETHING-ONE BOOK\n",
      "   89: *FUTURE *JOHN *THROW *IX IX NEW *BREAK-DOWN                   JOHN IX GIVE MAN IX NEW COAT\n",
      "   90: *FUTURE *FUTURE IX SOMETHING-ONE *GO BOOK                     JOHN GIVE IX SOMETHING-ONE WOMAN BOOK\n",
      "   92: JOHN *IX IX *IX WOMAN *COAT                                   JOHN GIVE IX SOMETHING-ONE WOMAN BOOK\n",
      "  100: *IX NEW CAR BREAK-DOWN                                        POSS NEW CAR BREAK-DOWN\n",
      "  105: JOHN *SEE                                                     JOHN LEG\n",
      "  107: *LIKE POSS *HAVE *WOMAN CANDY                                 JOHN POSS FRIEND HAVE CANDY\n",
      "  108: *IX *HOMEWORK                                                 WOMAN ARRIVE\n",
      "  113: IX CAR *IX *SOMETHING-ONE *BOX                                IX CAR BLUE SUE BUY\n",
      "  119: *PREFER *BUY1 IX CAR *GO                                      SUE BUY IX CAR BLUE\n",
      "  122: JOHN *GIVE1 BOOK                                              JOHN READ BOOK\n",
      "  139: JOHN *ARRIVE *CAR *GO BOOK                                    JOHN BUY WHAT YESTERDAY BOOK\n",
      "  142: JOHN *HAVE YESTERDAY WHAT BOOK                                JOHN BUY YESTERDAY WHAT BOOK\n",
      "  158: LOVE JOHN *NOT                                                LOVE JOHN WHO\n",
      "  167: JOHN IX *SAY-1P *MARY *LOVE                                   JOHN IX SAY LOVE MARY\n",
      "  171: JOHN *IX BLAME                                                JOHN MARY BLAME\n",
      "  174: *HOUSE *GIVE3 GIVE1 *VISIT *GO                                PEOPLE GROUP GIVE1 JANA TOY\n",
      "  181: JOHN ARRIVE                                                   JOHN ARRIVE\n",
      "  184: *IX BOY *GIVE1 TEACHER APPLE                                  ALL BOY GIVE TEACHER APPLE\n",
      "  189: *MARY *LEAVE *GIVE BOX                                        JOHN GIVE GIRL BOX\n",
      "  193: JOHN *FUTURE *GIVE BOX                                        JOHN GIVE GIRL BOX\n",
      "  199: *LOVE CHOCOLATE WHO                                           LIKE CHOCOLATE WHO\n",
      "  201: JOHN *MAN *WOMAN *WOMAN *STUDENT HOUSE                        JOHN TELL MARY IX-1P BUY HOUSE\n"
     ]
    }
   ],
   "source": [
    "features = features_custom1 # change as needed\n",
    "model_selector = SelectorBIC # change as needed\n",
    "\n",
    "# Recognize the test set and display the result with the show_errors method\n",
    "models = train_all_words(features, model_selector)\n",
    "test_set = asl.build_test(features)\n",
    "probabilities, guesses = recognize(models, test_set)\n",
    "show_errors(guesses, test_set)"
   ]
  },
  {
   "cell_type": "code",
   "execution_count": 34,
   "metadata": {
    "scrolled": false
   },
   "outputs": [
    {
     "name": "stdout",
     "output_type": "stream",
     "text": [
      "\n",
      "**** WER = 0.5393258426966292\n",
      "Total correct: 82 out of 178\n",
      "Video  Recognized                                                    Correct\n",
      "=====================================================================================================\n",
      "    2: JOHN WRITE HOMEWORK                                           JOHN WRITE HOMEWORK\n",
      "    7: *SOMETHING-ONE *NEW GO *JOHN                                  JOHN CAN GO CAN\n",
      "   12: *IX *WHAT *WHAT *WHAT                                         JOHN CAN GO CAN\n",
      "   21: JOHN *NEW *JOHN *MARY *CAR *CAR *FUTURE *YESTERDAY            JOHN FISH WONT EAT BUT CAN EAT CHICKEN\n",
      "   25: *MARY *IX IX IX IX                                            JOHN LIKE IX IX IX\n",
      "   28: JOHN *MARY IX IX *LOVE                                        JOHN LIKE IX IX IX\n",
      "   30: JOHN *MARY *MARY *MARY IX                                     JOHN LIKE IX IX IX\n",
      "   36: *JOHN *MARY *GIVE *TELL *MARY *MARY                           MARY VEGETABLE KNOW IX LIKE CORN1\n",
      "   40: *MARY *GO *YESTERDAY *VISIT LOVE                              JOHN IX THINK MARY LOVE\n",
      "   43: JOHN *IX BUY HOUSE                                            JOHN MUST BUY HOUSE\n",
      "   50: *JOHN *FUTURE BUY CAR *JOHN                                   FUTURE JOHN BUY CAR SHOULD\n",
      "   54: JOHN SHOULD *MARY BUY HOUSE                                   JOHN SHOULD NOT BUY HOUSE\n",
      "   57: *IX *VISIT *GO MARY                                           JOHN DECIDE VISIT MARY\n",
      "   67: *SOMETHING-ONE FUTURE *MARY BUY HOUSE                         JOHN FUTURE NOT BUY HOUSE\n",
      "   71: JOHN WILL VISIT MARY                                          JOHN WILL VISIT MARY\n",
      "   74: JOHN *VISIT VISIT *VISIT                                      JOHN NOT VISIT MARY\n",
      "   77: *JOHN BLAME MARY                                              ANN BLAME MARY\n",
      "   84: *IX *JOHN *GO *NEW                                            IX-1P FIND SOMETHING-ONE BOOK\n",
      "   89: *FUTURE *THROW *THROW *IX IX NEW *BREAK-DOWN                  JOHN IX GIVE MAN IX NEW COAT\n",
      "   90: JOHN *IX IX *IX WOMAN *VIDEOTAPE                              JOHN GIVE IX SOMETHING-ONE WOMAN BOOK\n",
      "   92: JOHN *IX IX *IX WOMAN BOOK                                    JOHN GIVE IX SOMETHING-ONE WOMAN BOOK\n",
      "  100: POSS NEW CAR BREAK-DOWN                                       POSS NEW CAR BREAK-DOWN\n",
      "  105: JOHN *POSS                                                    JOHN LEG\n",
      "  107: *MARY *IX FRIEND *MARY CANDY                                  JOHN POSS FRIEND HAVE CANDY\n",
      "  108: WOMAN *JOHN                                                   WOMAN ARRIVE\n",
      "  113: IX CAR *IX *IX *NEW                                           IX CAR BLUE SUE BUY\n",
      "  119: *PREFER *BUY1 IX CAR *GO                                      SUE BUY IX CAR BLUE\n",
      "  122: JOHN *GIVE1 BOOK                                              JOHN READ BOOK\n",
      "  139: JOHN *ARRIVE *CAR *ARRIVE BOOK                                JOHN BUY WHAT YESTERDAY BOOK\n",
      "  142: JOHN BUY YESTERDAY WHAT BOOK                                  JOHN BUY YESTERDAY WHAT BOOK\n",
      "  158: LOVE *MARY *NOT                                               LOVE JOHN WHO\n",
      "  167: *IX IX *VISIT *MARY *LOVE                                     JOHN IX SAY LOVE MARY\n",
      "  171: JOHN MARY BLAME                                               JOHN MARY BLAME\n",
      "  174: *GIVE1 *GIVE1 GIVE1 *VISIT *CAR                               PEOPLE GROUP GIVE1 JANA TOY\n",
      "  181: JOHN ARRIVE                                                   JOHN ARRIVE\n",
      "  184: *IX BOY *GIVE1 TEACHER APPLE                                  ALL BOY GIVE TEACHER APPLE\n",
      "  189: JOHN *LEAVE *GIVE *CAR                                        JOHN GIVE GIRL BOX\n",
      "  193: JOHN *IX *GO BOX                                              JOHN GIVE GIRL BOX\n",
      "  199: *JOHN *ARRIVE WHO                                             LIKE CHOCOLATE WHO\n",
      "  201: *SOMETHING-ONE *FUTURE *IX *JOHN BUY HOUSE                    JOHN TELL MARY IX-1P BUY HOUSE\n"
     ]
    }
   ],
   "source": [
    "# Choose a feature set and model selector\n",
    "features = features_custom # change as needed\n",
    "model_selector = SelectorDIC # change as needed\n",
    "\n",
    "# Recognize the test set and display the result with the show_errors method\n",
    "models = train_all_words(features, model_selector)\n",
    "test_set = asl.build_test(features)\n",
    "probabilities, guesses = recognize(models, test_set)\n",
    "show_errors(guesses, test_set)"
   ]
  },
  {
   "cell_type": "markdown",
   "metadata": {},
   "source": [
    "**Question 3:**  Summarize the error results from three combinations of features and model selectors.  What was the \"best\" combination and why?  What additional information might we use to improve our WER?  For more insight on improving WER, take a look at the introduction to Part 4.\n",
    "\n",
    "**Answer 3:**\n",
    "The CV,BIC,DIC selectors were run with the feature sets norm, custom, custom1 and custom2. For all 4 feauture sets, CV yielded the worst results(always significantly enough over 60%) compared to BIC and DIC. Of all the feature sets, custom2 yielded the worst results for all 3 selectors(all >60%) probably due to only 2 features being in the set. Feature set norm had only DIC achieve a score barely below the 60% WER(~59.55%). Thus the three combinations I have left in cells show the best score and a comparison to another selector with same feature set and to another feature set with same selector. The best performance comes from BIC with custom feature set at just over 50%. This is not too surprising, at least regarding the features, since there are 6 in this set as opposed to 4 or fewer in others, as well as the fact that these features are a combination of some specific types known to be helpful. As a comparison to this best performer, if we switch out to the next best feature set, custom1, the WER is ~59.5%, a significant decrease in performance. If we switch to the next best model, DIC, with feature set custom, the WER is right below 54%. Not as large a drop off though does not prove definitive in demonstrating the superiorty of improved or additional features vs improved selectors though one would choose the former from the above experiment. An alternative to improving  features is creating n-grams which account for orderings of words which is an additional dimension to score vs single words in a vacuum context."
   ]
  },
  {
   "cell_type": "markdown",
   "metadata": {},
   "source": [
    "<a id='part3_test'></a>\n",
    "### Recognizer Unit Tests\n",
    "Run the following unit tests as a sanity check on the defined recognizer.  The test simply looks for some valid values but is not exhaustive. However, the project should not be submitted if these tests don't pass."
   ]
  },
  {
   "cell_type": "code",
   "execution_count": 35,
   "metadata": {
    "scrolled": false
   },
   "outputs": [
    {
     "name": "stderr",
     "output_type": "stream",
     "text": [
      "..\n",
      "----------------------------------------------------------------------\n",
      "Ran 2 tests in 58.938s\n",
      "\n",
      "OK\n"
     ]
    },
    {
     "data": {
      "text/plain": [
       "<unittest.runner.TextTestResult run=2 errors=0 failures=0>"
      ]
     },
     "execution_count": 35,
     "metadata": {},
     "output_type": "execute_result"
    }
   ],
   "source": [
    "from asl_test_recognizer import TestRecognize\n",
    "suite = unittest.TestLoader().loadTestsFromModule(TestRecognize())\n",
    "unittest.TextTestRunner().run(suite)"
   ]
  },
  {
   "cell_type": "markdown",
   "metadata": {},
   "source": [
    "<a id='part4_info'></a>\n",
    "## PART 4: (OPTIONAL)  Improve the WER with Language Models\n",
    "We've squeezed just about as much as we can out of the model and still only get about 50% of the words right! Surely we can do better than that.  Probability to the rescue again in the form of [statistical language models (SLM)](https://en.wikipedia.org/wiki/Language_model).  The basic idea is that each word has some probability of occurrence within the set, and some probability that it is adjacent to specific other words. We can use that additional information to make better choices.\n",
    "\n",
    "##### Additional reading and \n",
    "- [Introduction to N-grams (Stanford Jurafsky slides)](https://web.stanford.edu/class/cs124/lec/languagemodeling.pdf)\n",
    "- [Speech Recognition Techniques for a Sign Language Recognition System, Philippe Dreuw et al](https://www-i6.informatik.rwth-aachen.de/publications/download/154/Dreuw--2007.pdf) see the improved results of applying LM on *this* data!\n",
    "23\n",
    "##### Optional challenge\n",
    "The recognizer you implemented in Part 3 is equivalent to a \"0-gram\" SLM.  Improve the WER with the SLM data provided with the data set in the link above using \"1-gram\", \"2-gram\", and/or \"3-gram\" statistics. The `probabilities` data you've already calculated will be useful and can be turned into a pandas DataFrame if desired (see next cell).  \n",
    "Good luck!  Share your results with the class!"
   ]
  },
  {
   "cell_type": "code",
   "execution_count": 25,
   "metadata": {},
   "outputs": [
    {
     "data": {
      "text/html": [
       "<div>\n",
       "<table border=\"1\" class=\"dataframe\">\n",
       "  <thead>\n",
       "    <tr style=\"text-align: right;\">\n",
       "      <th></th>\n",
       "      <th>ALL</th>\n",
       "      <th>ANN</th>\n",
       "      <th>APPLE</th>\n",
       "      <th>ARRIVE</th>\n",
       "      <th>BILL</th>\n",
       "      <th>BLAME</th>\n",
       "      <th>BLUE</th>\n",
       "      <th>BOOK</th>\n",
       "      <th>BORROW</th>\n",
       "      <th>BOX</th>\n",
       "      <th>...</th>\n",
       "      <th>VIDEOTAPE</th>\n",
       "      <th>VISIT</th>\n",
       "      <th>WANT</th>\n",
       "      <th>WHAT</th>\n",
       "      <th>WHO</th>\n",
       "      <th>WILL</th>\n",
       "      <th>WOMAN</th>\n",
       "      <th>WONT</th>\n",
       "      <th>WRITE</th>\n",
       "      <th>YESTERDAY</th>\n",
       "    </tr>\n",
       "  </thead>\n",
       "  <tbody>\n",
       "    <tr>\n",
       "      <th>0</th>\n",
       "      <td>-1225.111724</td>\n",
       "      <td>-446.058685</td>\n",
       "      <td>-1696.196314</td>\n",
       "      <td>-377.409585</td>\n",
       "      <td>-1558.085638</td>\n",
       "      <td>-426.317293</td>\n",
       "      <td>-2371.588596</td>\n",
       "      <td>-3122.820312</td>\n",
       "      <td>-8415.046524</td>\n",
       "      <td>-878.453032</td>\n",
       "      <td>...</td>\n",
       "      <td>-3098.543443</td>\n",
       "      <td>-157.138224</td>\n",
       "      <td>-1126.910411</td>\n",
       "      <td>-626.814765</td>\n",
       "      <td>-319.531273</td>\n",
       "      <td>-1095.034840</td>\n",
       "      <td>-214.405922</td>\n",
       "      <td>-513.961440</td>\n",
       "      <td>-591.171149</td>\n",
       "      <td>-299.087319</td>\n",
       "    </tr>\n",
       "    <tr>\n",
       "      <th>1</th>\n",
       "      <td>-6036.072131</td>\n",
       "      <td>-5684.699423</td>\n",
       "      <td>-4919.142819</td>\n",
       "      <td>-97.873830</td>\n",
       "      <td>-14071.795163</td>\n",
       "      <td>-120.526989</td>\n",
       "      <td>-1483.328845</td>\n",
       "      <td>-128.866533</td>\n",
       "      <td>-2555.178507</td>\n",
       "      <td>-99.678624</td>\n",
       "      <td>...</td>\n",
       "      <td>-101.474471</td>\n",
       "      <td>-103.222832</td>\n",
       "      <td>-953.770164</td>\n",
       "      <td>-187.241656</td>\n",
       "      <td>-381.096288</td>\n",
       "      <td>-8702.450149</td>\n",
       "      <td>-328.619135</td>\n",
       "      <td>-631.982637</td>\n",
       "      <td>0.317674</td>\n",
       "      <td>-596.887277</td>\n",
       "    </tr>\n",
       "    <tr>\n",
       "      <th>2</th>\n",
       "      <td>-6458.153304</td>\n",
       "      <td>-5462.088636</td>\n",
       "      <td>-8400.513754</td>\n",
       "      <td>-311.956792</td>\n",
       "      <td>-16306.412497</td>\n",
       "      <td>-378.063801</td>\n",
       "      <td>-4749.927301</td>\n",
       "      <td>-1560.021218</td>\n",
       "      <td>-8549.511172</td>\n",
       "      <td>-351.112793</td>\n",
       "      <td>...</td>\n",
       "      <td>-1253.782804</td>\n",
       "      <td>-340.631740</td>\n",
       "      <td>-1566.114523</td>\n",
       "      <td>-813.362597</td>\n",
       "      <td>-1827.685528</td>\n",
       "      <td>-9169.999265</td>\n",
       "      <td>-1154.631163</td>\n",
       "      <td>-958.052875</td>\n",
       "      <td>-1992.410907</td>\n",
       "      <td>-1105.747901</td>\n",
       "    </tr>\n",
       "    <tr>\n",
       "      <th>3</th>\n",
       "      <td>-1287.409918</td>\n",
       "      <td>-550.293364</td>\n",
       "      <td>-1328.180250</td>\n",
       "      <td>-313.671055</td>\n",
       "      <td>-1078.429389</td>\n",
       "      <td>-369.222028</td>\n",
       "      <td>-821.477484</td>\n",
       "      <td>-3542.082772</td>\n",
       "      <td>-12623.270358</td>\n",
       "      <td>-893.638776</td>\n",
       "      <td>...</td>\n",
       "      <td>-3445.415978</td>\n",
       "      <td>-181.127959</td>\n",
       "      <td>-965.228956</td>\n",
       "      <td>-569.104696</td>\n",
       "      <td>-382.767147</td>\n",
       "      <td>-868.582929</td>\n",
       "      <td>-251.585347</td>\n",
       "      <td>-228.629276</td>\n",
       "      <td>-1455.101623</td>\n",
       "      <td>-502.029211</td>\n",
       "    </tr>\n",
       "    <tr>\n",
       "      <th>4</th>\n",
       "      <td>-2557.469944</td>\n",
       "      <td>-2368.402674</td>\n",
       "      <td>-771.921735</td>\n",
       "      <td>-29.552503</td>\n",
       "      <td>-6869.567592</td>\n",
       "      <td>-55.857656</td>\n",
       "      <td>-230.763181</td>\n",
       "      <td>-185.657846</td>\n",
       "      <td>-2599.872845</td>\n",
       "      <td>-27.956146</td>\n",
       "      <td>...</td>\n",
       "      <td>-103.921972</td>\n",
       "      <td>-30.287477</td>\n",
       "      <td>-194.527711</td>\n",
       "      <td>-75.265907</td>\n",
       "      <td>-315.210645</td>\n",
       "      <td>-4550.862731</td>\n",
       "      <td>-134.711389</td>\n",
       "      <td>-412.666273</td>\n",
       "      <td>-206.025670</td>\n",
       "      <td>-205.368087</td>\n",
       "    </tr>\n",
       "  </tbody>\n",
       "</table>\n",
       "<p>5 rows × 112 columns</p>\n",
       "</div>"
      ],
      "text/plain": [
       "           ALL          ANN        APPLE      ARRIVE          BILL  \\\n",
       "0 -1225.111724  -446.058685 -1696.196314 -377.409585  -1558.085638   \n",
       "1 -6036.072131 -5684.699423 -4919.142819  -97.873830 -14071.795163   \n",
       "2 -6458.153304 -5462.088636 -8400.513754 -311.956792 -16306.412497   \n",
       "3 -1287.409918  -550.293364 -1328.180250 -313.671055  -1078.429389   \n",
       "4 -2557.469944 -2368.402674  -771.921735  -29.552503  -6869.567592   \n",
       "\n",
       "        BLAME         BLUE         BOOK        BORROW         BOX  \\\n",
       "0 -426.317293 -2371.588596 -3122.820312  -8415.046524 -878.453032   \n",
       "1 -120.526989 -1483.328845  -128.866533  -2555.178507  -99.678624   \n",
       "2 -378.063801 -4749.927301 -1560.021218  -8549.511172 -351.112793   \n",
       "3 -369.222028  -821.477484 -3542.082772 -12623.270358 -893.638776   \n",
       "4  -55.857656  -230.763181  -185.657846  -2599.872845  -27.956146   \n",
       "\n",
       "      ...         VIDEOTAPE       VISIT         WANT        WHAT          WHO  \\\n",
       "0     ...      -3098.543443 -157.138224 -1126.910411 -626.814765  -319.531273   \n",
       "1     ...       -101.474471 -103.222832  -953.770164 -187.241656  -381.096288   \n",
       "2     ...      -1253.782804 -340.631740 -1566.114523 -813.362597 -1827.685528   \n",
       "3     ...      -3445.415978 -181.127959  -965.228956 -569.104696  -382.767147   \n",
       "4     ...       -103.921972  -30.287477  -194.527711  -75.265907  -315.210645   \n",
       "\n",
       "          WILL        WOMAN        WONT        WRITE    YESTERDAY  \n",
       "0 -1095.034840  -214.405922 -513.961440  -591.171149  -299.087319  \n",
       "1 -8702.450149  -328.619135 -631.982637     0.317674  -596.887277  \n",
       "2 -9169.999265 -1154.631163 -958.052875 -1992.410907 -1105.747901  \n",
       "3  -868.582929  -251.585347 -228.629276 -1455.101623  -502.029211  \n",
       "4 -4550.862731  -134.711389 -412.666273  -206.025670  -205.368087  \n",
       "\n",
       "[5 rows x 112 columns]"
      ]
     },
     "execution_count": 25,
     "metadata": {},
     "output_type": "execute_result"
    }
   ],
   "source": [
    "# create a DataFrame of log likelihoods for the test word items\n",
    "df_probs = pd.DataFrame(data=probabilities)\n",
    "df_probs.head()"
   ]
  },
  {
   "cell_type": "code",
   "execution_count": 25,
   "metadata": {
    "collapsed": true,
    "scrolled": true
   },
   "outputs": [],
   "source": [
    "from asl_data import create_hmmlearn_data\n",
    "import warnings\n",
    "\n",
    "\n",
    "train_set_sentences = asl.build_training_sml(features_custom)\n",
    "sentences_index = train_set_sentences._load_sentence_word_indices()\n",
    "wordlist = train_set_sentences.wordlist\n",
    "sentence = training._load_data_sentence(wordlist, sentences_index)\n",
    "\n",
    "c = create_hmmlearn_data(sentence)"
   ]
  },
  {
   "cell_type": "code",
   "execution_count": 28,
   "metadata": {
    "collapsed": true
   },
   "outputs": [],
   "source": [
    "sentences_to_train = sentence.keys()"
   ]
  },
  {
   "cell_type": "code",
   "execution_count": 29,
   "metadata": {
    "scrolled": true
   },
   "outputs": [
    {
     "name": "stdout",
     "output_type": "stream",
     "text": [
      "Training complete for JOHNWRITEHOMEWORK with 7 states with time 0.6516321903565085 seconds\n",
      "Training complete for IX-1PSEEJOHNYESTERDAYIX with 12 states with time 1.9640812709484408 seconds\n",
      "Training complete for JOHNIX-1PSEEIXYESTERDAY with 10 states with time 1.7926588506865073 seconds\n",
      "Training complete for LOVEMARYJOHN with 11 states with time 2.3401282454423153 seconds\n",
      "Training complete for LOVEMARYJOHNIX with 12 states with time 11.751128266882006 seconds\n",
      "Training complete for JOHNCANGOCAN with 11 states with time 4.58984595539107 seconds\n",
      "Training complete for JOHNCANGO1CAN with 12 states with time 2.6445039199010125 seconds\n",
      "Training complete for JOHNFUTUREGO2PARTYFUTURE with 12 states with time 1.002142635088262 seconds\n",
      "Training complete for JOHNFUTURE1GOIX with 12 states with time 9.35200497402218 seconds\n",
      "Training complete for JOHNIXHITBLAMEFREDIX with 12 states with time 13.435334585176633 seconds\n",
      "Training complete for JOHNFISHWONTEATBUTCANEATCHICKEN with 11 states with time 1.3432093162863339 seconds\n",
      "Training complete for VEGETABLECHINAIXPEOPLEPREFERBROCCOLI with 11 states with time 0.5504463934767045 seconds\n",
      "Training complete for JOHNLIKEIXIXIX with 12 states with time 98.22820649338576 seconds\n"
     ]
    }
   ],
   "source": [
    "sequences = sentence\n",
    "Xlengths = c\n",
    "for word in sentences_to_train:\n",
    "    start = timeit.default_timer()\n",
    "    model = SelectorBIC(sequences, Xlengths, word, min_n_components=3, max_n_components=12, random_state = 9).select()\n",
    "    end = timeit.default_timer()-start\n",
    "    if model is not None:\n",
    "        print(\"Training complete for {} with {} states with time {} seconds\".format(word, model.n_components, end))\n",
    "    else:\n",
    "        print(\"Training failed for {}\".format(word))\n"
   ]
  },
  {
   "cell_type": "code",
   "execution_count": 29,
   "metadata": {},
   "outputs": [
    {
     "name": "stdout",
     "output_type": "stream",
     "text": [
      "Training complete for JOHNWRITEHOMEWORK with 12 states with time 4.281955055135882 seconds\n",
      "Training complete for IX-1PSEEJOHNYESTERDAYIX with 12 states with time 5.806910924982276 seconds\n",
      "Training complete for JOHNIX-1PSEEIXYESTERDAY with 12 states with time 5.462445149971018 seconds\n",
      "Training complete for LOVEMARYJOHN with 12 states with time 6.692102846484204 seconds\n",
      "Training complete for LOVEMARYJOHNIX with 12 states with time 18.744396631815107 seconds\n",
      "Training complete for JOHNCANGOCAN with 12 states with time 7.643877700515304 seconds\n",
      "Training complete for JOHNCANGO1CAN with 10 states with time 6.013539649245672 seconds\n",
      "Training complete for JOHNFUTUREGO2PARTYFUTURE with 10 states with time 5.675024298384187 seconds\n",
      "Training complete for JOHNFUTURE1GOIX with 11 states with time 13.023553799481192 seconds\n",
      "Training complete for JOHNIXHITBLAMEFREDIX with 12 states with time 18.46768761568535 seconds\n",
      "Training complete for JOHNFISHWONTEATBUTCANEATCHICKEN with 12 states with time 5.020160958928614 seconds\n",
      "Training complete for VEGETABLECHINAIXPEOPLEPREFERBROCCOLI with 12 states with time 4.837126233678987 seconds\n",
      "Training complete for JOHNLIKEIXIXIX with 12 states with time 120.18600993732446 seconds\n"
     ]
    }
   ],
   "source": [
    "for word in sentences_to_train:\n",
    "    start = timeit.default_timer()\n",
    "    model = SelectorDIC(sequences, Xlengths, word, min_n_components=3, max_n_components=12, random_state = 9).select()\n",
    "    end = timeit.default_timer()-start\n",
    "    if model is not None:\n",
    "        print(\"Training complete for {} with {} states with time {} seconds\".format(word, model.n_components, end))\n",
    "    else:\n",
    "        print(\"Training failed for {}\".format(word))"
   ]
  },
  {
   "cell_type": "code",
   "execution_count": 30,
   "metadata": {
    "collapsed": true
   },
   "outputs": [],
   "source": [
    "def train_all_sentences(features, model_selector):\n",
    "    train_set_sentences = asl.build_training_sml(features_custom)\n",
    "    sentences_index = train_set_sentences._load_sentence_word_indices()\n",
    "    wordlist = train_set_sentences.wordlist\n",
    "    sentence = training._load_data_sentence(wordlist, sentences_index)\n",
    "    sentences_to_train = list(sentence.keys())\n",
    "\n",
    "    c = create_hmmlearn_data(sentence)\n",
    "    sequences = sentence\n",
    "    Xlengths = c\n",
    "    model_dict = {}\n",
    "    for word in sentences_to_train:\n",
    "        model = model_selector(sequences, Xlengths, word, \n",
    "                        n_constant=3).select()\n",
    "        model_dict[word]=model\n",
    "    return model_dict\n",
    "\n",
    "models_sentence = train_all_sentences(features_custom, SelectorBIC)\n",
    "\n",
    "\n",
    "\n"
   ]
  },
  {
   "cell_type": "code",
   "execution_count": 33,
   "metadata": {
    "collapsed": true,
    "scrolled": true
   },
   "outputs": [],
   "source": [
    "test_set_sentences = asl.build_test(features_custom)\n",
    "sentences_index = test_set_sentences._get_test_sentence()\n",
    "Xlengths_sentence = create_hmmlearn_data(sentences_index)\n",
    "p, g = recognize_sentences(models_sentence, Xlengths_sentence)\n"
   ]
  },
  {
   "cell_type": "code",
   "execution_count": 34,
   "metadata": {
    "scrolled": true
   },
   "outputs": [
    {
     "name": "stdout",
     "output_type": "stream",
     "text": [
      "[{'JOHNWRITEHOMEWORK': -281.02648890374979, 'IX-1PSEEJOHNYESTERDAYIX': -3739.2890462899741, 'JOHNIX-1PSEEIXYESTERDAY': -1852.6717361855776, 'LOVEMARYJOHN': -2313.1750769812943, 'LOVEMARYJOHNIX': -1127.1584857546575, 'JOHNCANGOCAN': -1496.5960766204528, 'JOHNCANGO1CAN': -3924.631243821259, 'JOHNFUTUREGO2PARTYFUTURE': -1677.1746473906919, 'JOHNFUTURE1GOIX': -1854.8886242393048, 'JOHNIXHITBLAMEFREDIX': -1199.6666956791798, 'JOHNFISHWONTEATBUTCANEATCHICKEN': -1927.1050290797662, 'VEGETABLECHINAIXPEOPLEPREFERBROCCOLI': -4175.6290559024201, 'JOHNLIKEIXIXIX': -1880.2344021018766}, {'JOHNWRITEHOMEWORK': -1598.0255316758971, 'IX-1PSEEJOHNYESTERDAYIX': -2128.6283725210178, 'JOHNIX-1PSEEIXYESTERDAY': -914.06224651619618, 'LOVEMARYJOHN': -1230.083382309336, 'LOVEMARYJOHNIX': -666.87201592136762, 'JOHNCANGOCAN': -553.60635457897422, 'JOHNCANGO1CAN': -934.1066079447678, 'JOHNFUTUREGO2PARTYFUTURE': -789.77543832404808, 'JOHNFUTURE1GOIX': -675.94203633612756, 'JOHNIXHITBLAMEFREDIX': -618.59347493843234, 'JOHNFISHWONTEATBUTCANEATCHICKEN': -550.97186371930331, 'VEGETABLECHINAIXPEOPLEPREFERBROCCOLI': -1803.7721358365816, 'JOHNLIKEIXIXIX': -915.5824780548478}, {'JOHNWRITEHOMEWORK': -3576.9996461172909, 'IX-1PSEEJOHNYESTERDAYIX': -6130.3304340660961, 'JOHNIX-1PSEEIXYESTERDAY': -2540.0789229988814, 'LOVEMARYJOHN': -3505.707402790928, 'LOVEMARYJOHNIX': -2426.0096149304427, 'JOHNCANGOCAN': -1435.9539108644101, 'JOHNCANGO1CAN': -1269.0088979516527, 'JOHNFUTUREGO2PARTYFUTURE': -1795.8968931860386, 'JOHNFUTURE1GOIX': -2175.8044056896492, 'JOHNIXHITBLAMEFREDIX': -1815.3181412310505, 'JOHNFISHWONTEATBUTCANEATCHICKEN': -2777.2011098069493, 'VEGETABLECHINAIXPEOPLEPREFERBROCCOLI': -5237.0446110225221, 'JOHNLIKEIXIXIX': -2750.0100513582638}, {'JOHNWRITEHOMEWORK': -5845.9459020368122, 'IX-1PSEEJOHNYESTERDAYIX': -8835.2643493238738, 'JOHNIX-1PSEEIXYESTERDAY': -3504.4722938726486, 'LOVEMARYJOHN': -4774.3610586201285, 'LOVEMARYJOHNIX': -2822.8373505414793, 'JOHNCANGOCAN': -2988.7833610624343, 'JOHNCANGO1CAN': -9073.8907928711214, 'JOHNFUTUREGO2PARTYFUTURE': -2187.8807265897908, 'JOHNFUTURE1GOIX': -3795.1950051070789, 'JOHNIXHITBLAMEFREDIX': -2145.8071239935562, 'JOHNFISHWONTEATBUTCANEATCHICKEN': -2540.5582585088887, 'VEGETABLECHINAIXPEOPLEPREFERBROCCOLI': -6580.6532206764523, 'JOHNLIKEIXIXIX': -4060.8512673103719}, {'JOHNWRITEHOMEWORK': -2024.2380295964763, 'IX-1PSEEJOHNYESTERDAYIX': -317.05607341023995, 'JOHNIX-1PSEEIXYESTERDAY': -526.90704313892957, 'LOVEMARYJOHN': -797.68309497144571, 'LOVEMARYJOHNIX': -387.32259069664428, 'JOHNCANGOCAN': -574.93467104110255, 'JOHNCANGO1CAN': -8910.7721018313459, 'JOHNFUTUREGO2PARTYFUTURE': -1535.7695093134498, 'JOHNFUTURE1GOIX': -653.20094806277541, 'JOHNIXHITBLAMEFREDIX': -638.35896787339948, 'JOHNFISHWONTEATBUTCANEATCHICKEN': -1505.9912707655865, 'VEGETABLECHINAIXPEOPLEPREFERBROCCOLI': -2463.9015023814909, 'JOHNLIKEIXIXIX': -771.9334596219669}, {'JOHNWRITEHOMEWORK': -1736.4533732178363, 'IX-1PSEEJOHNYESTERDAYIX': -305.71671867523207, 'JOHNIX-1PSEEIXYESTERDAY': -467.20595274194613, 'LOVEMARYJOHN': -611.5045009282594, 'LOVEMARYJOHNIX': -384.61687817032953, 'JOHNCANGOCAN': -547.60258254499593, 'JOHNCANGO1CAN': -8220.7475050415651, 'JOHNFUTUREGO2PARTYFUTURE': -1317.0798527747322, 'JOHNFUTURE1GOIX': -586.11105814145799, 'JOHNIXHITBLAMEFREDIX': -552.89226522853733, 'JOHNFISHWONTEATBUTCANEATCHICKEN': -1339.4097109029155, 'VEGETABLECHINAIXPEOPLEPREFERBROCCOLI': -2203.6522888993859, 'JOHNLIKEIXIXIX': -719.07032198685033}, {'JOHNWRITEHOMEWORK': -1447.4872870024838, 'IX-1PSEEJOHNYESTERDAYIX': -710.90721244173028, 'JOHNIX-1PSEEIXYESTERDAY': -149.99336617410052, 'LOVEMARYJOHN': -151.84650215401399, 'LOVEMARYJOHNIX': -174.21207151660661, 'JOHNCANGOCAN': -214.68420332403164, 'JOHNCANGO1CAN': -2183.4916967176541, 'JOHNFUTUREGO2PARTYFUTURE': -275.87744504430896, 'JOHNFUTURE1GOIX': -164.04694689081811, 'JOHNIXHITBLAMEFREDIX': -160.0974032875437, 'JOHNFISHWONTEATBUTCANEATCHICKEN': -351.87938021848879, 'VEGETABLECHINAIXPEOPLEPREFERBROCCOLI': -870.44043072631507, 'JOHNLIKEIXIXIX': -149.40060595651235}, {'JOHNWRITEHOMEWORK': -3119.4630046007551, 'IX-1PSEEJOHNYESTERDAYIX': -902.2260043480818, 'JOHNIX-1PSEEIXYESTERDAY': -458.42073129269238, 'LOVEMARYJOHN': -1008.2189678086363, 'LOVEMARYJOHNIX': -532.44197111957487, 'JOHNCANGOCAN': -533.97659754820279, 'JOHNCANGO1CAN': -2851.4562314350587, 'JOHNFUTUREGO2PARTYFUTURE': -626.62237414892172, 'JOHNFUTURE1GOIX': -338.49314320774965, 'JOHNIXHITBLAMEFREDIX': -444.59673164624672, 'JOHNFISHWONTEATBUTCANEATCHICKEN': -997.50999832026457, 'VEGETABLECHINAIXPEOPLEPREFERBROCCOLI': -1934.3540613038392, 'JOHNLIKEIXIXIX': -593.93901286997209}, {'JOHNWRITEHOMEWORK': -2766.7791207772407, 'IX-1PSEEJOHNYESTERDAYIX': -588.82115771963538, 'JOHNIX-1PSEEIXYESTERDAY': -288.8713798026584, 'LOVEMARYJOHN': -569.71415225550572, 'LOVEMARYJOHNIX': -448.74084868332972, 'JOHNCANGOCAN': -398.68303861334863, 'JOHNCANGO1CAN': -3151.1210122665843, 'JOHNFUTUREGO2PARTYFUTURE': -497.60684720993572, 'JOHNFUTURE1GOIX': -290.55914857432975, 'JOHNIXHITBLAMEFREDIX': -357.85649595873537, 'JOHNFISHWONTEATBUTCANEATCHICKEN': -634.7783213996089, 'VEGETABLECHINAIXPEOPLEPREFERBROCCOLI': -1974.706272492044, 'JOHNLIKEIXIXIX': -385.17148025583572}, {'JOHNWRITEHOMEWORK': -2419.1977226281924, 'IX-1PSEEJOHNYESTERDAYIX': -4659.2288720293864, 'JOHNIX-1PSEEIXYESTERDAY': -1953.109149167743, 'LOVEMARYJOHN': -2082.4246705507767, 'LOVEMARYJOHNIX': -1527.9732242630398, 'JOHNCANGOCAN': -1181.2074353858461, 'JOHNCANGO1CAN': -1354.4014125572639, 'JOHNFUTUREGO2PARTYFUTURE': -911.91956797070236, 'JOHNFUTURE1GOIX': -1531.4615215126253, 'JOHNIXHITBLAMEFREDIX': -755.9194940472297, 'JOHNFISHWONTEATBUTCANEATCHICKEN': -913.58356929002389, 'VEGETABLECHINAIXPEOPLEPREFERBROCCOLI': -2881.78355841244, 'JOHNLIKEIXIXIX': -2025.9570722336034}, {'JOHNWRITEHOMEWORK': -2150.2576415611829, 'IX-1PSEEJOHNYESTERDAYIX': -3294.1451343842987, 'JOHNIX-1PSEEIXYESTERDAY': -1434.5951415176278, 'LOVEMARYJOHN': -1857.9464512389461, 'LOVEMARYJOHNIX': -1221.2165102595629, 'JOHNCANGOCAN': -915.06502551108974, 'JOHNCANGO1CAN': -1584.9543956643738, 'JOHNFUTUREGO2PARTYFUTURE': -856.8095230245965, 'JOHNFUTURE1GOIX': -1229.7418833119098, 'JOHNIXHITBLAMEFREDIX': -735.5384967804066, 'JOHNFISHWONTEATBUTCANEATCHICKEN': -786.63428782799144, 'VEGETABLECHINAIXPEOPLEPREFERBROCCOLI': -3319.0314557135812, 'JOHNLIKEIXIXIX': -1431.0049836099383}, {'JOHNWRITEHOMEWORK': -1758.0838023964488, 'IX-1PSEEJOHNYESTERDAYIX': -3227.4110563801291, 'JOHNIX-1PSEEIXYESTERDAY': -1417.8913049636067, 'LOVEMARYJOHN': -1757.3522496400092, 'LOVEMARYJOHNIX': -1071.1737076499464, 'JOHNCANGOCAN': -881.96318044183568, 'JOHNCANGO1CAN': -1411.3140127859187, 'JOHNFUTUREGO2PARTYFUTURE': -959.75998510556417, 'JOHNFUTURE1GOIX': -1301.3294024803872, 'JOHNIXHITBLAMEFREDIX': -902.21945620994791, 'JOHNFISHWONTEATBUTCANEATCHICKEN': -754.93601967618565, 'VEGETABLECHINAIXPEOPLEPREFERBROCCOLI': -3207.7998654318944, 'JOHNLIKEIXIXIX': -1408.4174286870059}, {'JOHNWRITEHOMEWORK': -1378.1492251407717, 'IX-1PSEEJOHNYESTERDAYIX': -914.61923279521977, 'JOHNIX-1PSEEIXYESTERDAY': -265.64474692968054, 'LOVEMARYJOHN': -485.3137207484574, 'LOVEMARYJOHNIX': -419.19814877550544, 'JOHNCANGOCAN': -408.75907646676524, 'JOHNCANGO1CAN': -2269.2032829944078, 'JOHNFUTUREGO2PARTYFUTURE': -469.35130044192721, 'JOHNFUTURE1GOIX': -274.64312094736613, 'JOHNIXHITBLAMEFREDIX': -313.74657468245152, 'JOHNFISHWONTEATBUTCANEATCHICKEN': -387.85688917316747, 'VEGETABLECHINAIXPEOPLEPREFERBROCCOLI': -1726.7687680217978, 'JOHNLIKEIXIXIX': -380.3372372733952}, {'JOHNWRITEHOMEWORK': -2957.0073494729072, 'IX-1PSEEJOHNYESTERDAYIX': -3941.7536779537413, 'JOHNIX-1PSEEIXYESTERDAY': -1888.5249563727382, 'LOVEMARYJOHN': -2415.4191002880325, 'LOVEMARYJOHNIX': -1681.2440063251215, 'JOHNCANGOCAN': -1238.7163576406253, 'JOHNCANGO1CAN': -1790.1510548691829, 'JOHNFUTUREGO2PARTYFUTURE': -1822.1896139671305, 'JOHNFUTURE1GOIX': -1472.2773403919796, 'JOHNIXHITBLAMEFREDIX': -1020.1585751608461, 'JOHNFISHWONTEATBUTCANEATCHICKEN': -1688.5976086416108, 'VEGETABLECHINAIXPEOPLEPREFERBROCCOLI': -5626.1277515626753, 'JOHNLIKEIXIXIX': -2038.033132914451}, {'JOHNWRITEHOMEWORK': -3579.5586701598904, 'IX-1PSEEJOHNYESTERDAYIX': -3457.7278035911509, 'JOHNIX-1PSEEIXYESTERDAY': -1250.1797737335341, 'LOVEMARYJOHN': -968.0468601052346, 'LOVEMARYJOHNIX': -703.44439313071791, 'JOHNCANGOCAN': -1186.6515683220189, 'JOHNCANGO1CAN': -2306.1530951658551, 'JOHNFUTUREGO2PARTYFUTURE': -1580.5770713181882, 'JOHNFUTURE1GOIX': -1115.0470321689397, 'JOHNIXHITBLAMEFREDIX': -1102.0342114944867, 'JOHNFISHWONTEATBUTCANEATCHICKEN': -1579.5749899015727, 'VEGETABLECHINAIXPEOPLEPREFERBROCCOLI': -2710.5290637809308, 'JOHNLIKEIXIXIX': -1307.4949966512677}, {'JOHNWRITEHOMEWORK': -2146.8845018071161, 'IX-1PSEEJOHNYESTERDAYIX': -652.96833900131992, 'JOHNIX-1PSEEIXYESTERDAY': -210.2884527365199, 'LOVEMARYJOHN': -388.07589117294009, 'LOVEMARYJOHNIX': -380.66730702420352, 'JOHNCANGOCAN': -328.06515404968309, 'JOHNCANGO1CAN': -2955.829784548826, 'JOHNFUTUREGO2PARTYFUTURE': -407.46155513677041, 'JOHNFUTURE1GOIX': -219.07288764049352, 'JOHNIXHITBLAMEFREDIX': -266.73529800885024, 'JOHNFISHWONTEATBUTCANEATCHICKEN': -572.04818409933068, 'VEGETABLECHINAIXPEOPLEPREFERBROCCOLI': -1268.7440109200043, 'JOHNLIKEIXIXIX': -346.16391688950398}, {'JOHNWRITEHOMEWORK': -2967.7280369346418, 'IX-1PSEEJOHNYESTERDAYIX': -1424.4051669996463, 'JOHNIX-1PSEEIXYESTERDAY': -940.30944303637409, 'LOVEMARYJOHN': -1564.0010024335184, 'LOVEMARYJOHNIX': -691.12361716219027, 'JOHNCANGOCAN': -901.19634791064868, 'JOHNCANGO1CAN': -11435.810219627649, 'JOHNFUTUREGO2PARTYFUTURE': -1941.2271128817058, 'JOHNFUTURE1GOIX': -1143.2828086714185, 'JOHNIXHITBLAMEFREDIX': -950.1328228495438, 'JOHNFISHWONTEATBUTCANEATCHICKEN': -1671.9757469777705, 'VEGETABLECHINAIXPEOPLEPREFERBROCCOLI': -4438.4998739511348, 'JOHNLIKEIXIXIX': -1188.2063628425162}, {'JOHNWRITEHOMEWORK': -627.55777639831558, 'IX-1PSEEJOHNYESTERDAYIX': -2859.0869881824319, 'JOHNIX-1PSEEIXYESTERDAY': -1478.9499881236131, 'LOVEMARYJOHN': -2415.2298793404243, 'LOVEMARYJOHNIX': -1101.5891716561023, 'JOHNCANGOCAN': -1172.1856076516099, 'JOHNCANGO1CAN': -2453.6171107908954, 'JOHNFUTUREGO2PARTYFUTURE': -1187.8851149089737, 'JOHNFUTURE1GOIX': -1207.9093034485386, 'JOHNIXHITBLAMEFREDIX': -825.97562664645989, 'JOHNFISHWONTEATBUTCANEATCHICKEN': -1358.9627618567158, 'VEGETABLECHINAIXPEOPLEPREFERBROCCOLI': -3256.9900116536755, 'JOHNLIKEIXIXIX': -1413.9942362115489}, {'JOHNWRITEHOMEWORK': -5153.936884530468, 'IX-1PSEEJOHNYESTERDAYIX': -5607.1763300439234, 'JOHNIX-1PSEEIXYESTERDAY': -2888.8294224017345, 'LOVEMARYJOHN': -4237.4776612847754, 'LOVEMARYJOHNIX': -3555.5337122457895, 'JOHNCANGOCAN': -3527.0040237279031, 'JOHNCANGO1CAN': -10947.927732025624, 'JOHNFUTUREGO2PARTYFUTURE': -5068.6018965416197, 'JOHNFUTURE1GOIX': -3319.4728710580748, 'JOHNIXHITBLAMEFREDIX': -2686.2201686340923, 'JOHNFISHWONTEATBUTCANEATCHICKEN': -2858.813831326524, 'VEGETABLECHINAIXPEOPLEPREFERBROCCOLI': -16975.239244030014, 'JOHNLIKEIXIXIX': -4343.2804914020571}, {'JOHNWRITEHOMEWORK': -3889.6432176182734, 'IX-1PSEEJOHNYESTERDAYIX': -3955.806969112125, 'JOHNIX-1PSEEIXYESTERDAY': -2472.3976803601845, 'LOVEMARYJOHN': -3295.2451005718021, 'LOVEMARYJOHNIX': -2270.9562376044023, 'JOHNCANGOCAN': -2452.5683739580631, 'JOHNCANGO1CAN': -8077.1067339620477, 'JOHNFUTUREGO2PARTYFUTURE': -4547.5112677118905, 'JOHNFUTURE1GOIX': -2504.3141043740488, 'JOHNIXHITBLAMEFREDIX': -1530.6756682663599, 'JOHNFISHWONTEATBUTCANEATCHICKEN': -2806.8774421816133, 'VEGETABLECHINAIXPEOPLEPREFERBROCCOLI': -11928.746687887111, 'JOHNLIKEIXIXIX': -3078.1972689459881}, {'JOHNWRITEHOMEWORK': -6019.2182073248969, 'IX-1PSEEJOHNYESTERDAYIX': -5211.5302453995373, 'JOHNIX-1PSEEIXYESTERDAY': -2670.4041966807181, 'LOVEMARYJOHN': -4324.1132338969774, 'LOVEMARYJOHNIX': -4611.1456163892308, 'JOHNCANGOCAN': -4205.2984378844003, 'JOHNCANGO1CAN': -13835.322032943404, 'JOHNFUTUREGO2PARTYFUTURE': -5895.5851235178288, 'JOHNFUTURE1GOIX': -3365.9075891272882, 'JOHNIXHITBLAMEFREDIX': -3651.3860251250453, 'JOHNFISHWONTEATBUTCANEATCHICKEN': -3172.4563007897159, 'VEGETABLECHINAIXPEOPLEPREFERBROCCOLI': -20020.829657927945, 'JOHNLIKEIXIXIX': -5019.0921385067832}, {'JOHNWRITEHOMEWORK': -3348.4427030139636, 'IX-1PSEEJOHNYESTERDAYIX': -6216.2039849828516, 'JOHNIX-1PSEEIXYESTERDAY': -2647.0979602578645, 'LOVEMARYJOHN': -2658.099865914869, 'LOVEMARYJOHNIX': -1758.4598200489463, 'JOHNCANGOCAN': -1977.525818473428, 'JOHNCANGO1CAN': -2963.7335309972887, 'JOHNFUTUREGO2PARTYFUTURE': -1894.7143437562131, 'JOHNFUTURE1GOIX': -2464.6931543448945, 'JOHNIXHITBLAMEFREDIX': -1415.319448207744, 'JOHNFISHWONTEATBUTCANEATCHICKEN': -1329.7478168033431, 'VEGETABLECHINAIXPEOPLEPREFERBROCCOLI': -4636.3640612899708, 'JOHNLIKEIXIXIX': -2743.2369890301334}, {'JOHNWRITEHOMEWORK': -309.75867234988971, 'IX-1PSEEJOHNYESTERDAYIX': -427.43511766685447, 'JOHNIX-1PSEEIXYESTERDAY': -126.43569236175122, 'LOVEMARYJOHN': -99.350757262000016, 'LOVEMARYJOHNIX': -118.38415447489572, 'JOHNCANGOCAN': -119.72197470081109, 'JOHNCANGO1CAN': -440.50029675186562, 'JOHNFUTUREGO2PARTYFUTURE': -135.38434617693872, 'JOHNFUTURE1GOIX': -130.29394214982904, 'JOHNIXHITBLAMEFREDIX': -98.370515134403405, 'JOHNFISHWONTEATBUTCANEATCHICKEN': -32.423358757723321, 'VEGETABLECHINAIXPEOPLEPREFERBROCCOLI': -1000.4854451387761, 'JOHNLIKEIXIXIX': -84.979626625900806}, {'JOHNWRITEHOMEWORK': -3182.5502840263052, 'IX-1PSEEJOHNYESTERDAYIX': -2307.2259412199983, 'JOHNIX-1PSEEIXYESTERDAY': -1139.3819281894544, 'LOVEMARYJOHN': -1328.5607911695138, 'LOVEMARYJOHNIX': -781.87675108529572, 'JOHNCANGOCAN': -801.38552776513166, 'JOHNCANGO1CAN': -2697.2843713244019, 'JOHNFUTUREGO2PARTYFUTURE': -1225.0737778480757, 'JOHNFUTURE1GOIX': -1350.6924406815549, 'JOHNIXHITBLAMEFREDIX': -759.21177861998865, 'JOHNFISHWONTEATBUTCANEATCHICKEN': -1251.0502334814778, 'VEGETABLECHINAIXPEOPLEPREFERBROCCOLI': -3180.0546817274394, 'JOHNLIKEIXIXIX': -1071.0936953069324}, {'JOHNWRITEHOMEWORK': -421.27504431281432, 'IX-1PSEEJOHNYESTERDAYIX': -527.50827653773956, 'JOHNIX-1PSEEIXYESTERDAY': -239.25155187002525, 'LOVEMARYJOHN': -354.53274582559038, 'LOVEMARYJOHNIX': -294.72219386083657, 'JOHNCANGOCAN': -233.68264255702275, 'JOHNCANGO1CAN': -1687.4129762269745, 'JOHNFUTUREGO2PARTYFUTURE': -370.6592314616251, 'JOHNFUTURE1GOIX': -317.01378521190674, 'JOHNIXHITBLAMEFREDIX': -238.87985345601061, 'JOHNFISHWONTEATBUTCANEATCHICKEN': -338.72647303879495, 'VEGETABLECHINAIXPEOPLEPREFERBROCCOLI': -1635.2689423910917, 'JOHNLIKEIXIXIX': -284.62680321489972}, {'JOHNWRITEHOMEWORK': -1977.9490227033602, 'IX-1PSEEJOHNYESTERDAYIX': -1418.0501906833133, 'JOHNIX-1PSEEIXYESTERDAY': -660.2901076877763, 'LOVEMARYJOHN': -1297.5028759942343, 'LOVEMARYJOHNIX': -593.44933387561991, 'JOHNCANGOCAN': -582.79696371887326, 'JOHNCANGO1CAN': -2399.3281158522186, 'JOHNFUTUREGO2PARTYFUTURE': -1020.799801607546, 'JOHNFUTURE1GOIX': -666.31874694980092, 'JOHNIXHITBLAMEFREDIX': -561.35807930343015, 'JOHNFISHWONTEATBUTCANEATCHICKEN': -1233.7300568962803, 'VEGETABLECHINAIXPEOPLEPREFERBROCCOLI': -2642.0586953509596, 'JOHNLIKEIXIXIX': -723.46637339751192}, {'JOHNWRITEHOMEWORK': -1816.0369837612247, 'IX-1PSEEJOHNYESTERDAYIX': -1701.0577490484941, 'JOHNIX-1PSEEIXYESTERDAY': -746.17004790920453, 'LOVEMARYJOHN': -1215.5083559721377, 'LOVEMARYJOHNIX': -585.14657820498689, 'JOHNCANGOCAN': -639.62763195306763, 'JOHNCANGO1CAN': -3214.9228294067775, 'JOHNFUTUREGO2PARTYFUTURE': -751.4377138576175, 'JOHNFUTURE1GOIX': -676.75281910365345, 'JOHNIXHITBLAMEFREDIX': -642.17892184102334, 'JOHNFISHWONTEATBUTCANEATCHICKEN': -1082.6143824340347, 'VEGETABLECHINAIXPEOPLEPREFERBROCCOLI': -2593.7521798704811, 'JOHNLIKEIXIXIX': -769.99783843521072}, {'JOHNWRITEHOMEWORK': -3276.9979130645243, 'IX-1PSEEJOHNYESTERDAYIX': -5027.9192371217796, 'JOHNIX-1PSEEIXYESTERDAY': -2177.7713483104453, 'LOVEMARYJOHN': -2053.1132357752331, 'LOVEMARYJOHNIX': -1117.3516611059199, 'JOHNCANGOCAN': -1687.5014840769297, 'JOHNCANGO1CAN': -3019.2882299182925, 'JOHNFUTUREGO2PARTYFUTURE': -1235.8474283438586, 'JOHNFUTURE1GOIX': -2086.4492107828764, 'JOHNIXHITBLAMEFREDIX': -1754.1489578777314, 'JOHNFISHWONTEATBUTCANEATCHICKEN': -1076.552889801907, 'VEGETABLECHINAIXPEOPLEPREFERBROCCOLI': -2885.3151892593978, 'JOHNLIKEIXIXIX': -2223.5862127878777}, {'JOHNWRITEHOMEWORK': -3453.7440391801279, 'IX-1PSEEJOHNYESTERDAYIX': -6586.3401475573946, 'JOHNIX-1PSEEIXYESTERDAY': -2581.1123487639202, 'LOVEMARYJOHN': -2788.8998883792474, 'LOVEMARYJOHNIX': -2295.6759269904696, 'JOHNCANGOCAN': -1945.3464503675191, 'JOHNCANGO1CAN': -5692.0901391415073, 'JOHNFUTUREGO2PARTYFUTURE': -1673.1105614279872, 'JOHNFUTURE1GOIX': -2660.6025325685596, 'JOHNIXHITBLAMEFREDIX': -1769.2706800511501, 'JOHNFISHWONTEATBUTCANEATCHICKEN': -3075.262377250408, 'VEGETABLECHINAIXPEOPLEPREFERBROCCOLI': -6886.0930725521848, 'JOHNLIKEIXIXIX': -2835.8077328050272}, {'JOHNWRITEHOMEWORK': -2560.6256150902946, 'IX-1PSEEJOHNYESTERDAYIX': -7432.6771143319656, 'JOHNIX-1PSEEIXYESTERDAY': -3169.3518839183262, 'LOVEMARYJOHN': -3943.8068224767153, 'LOVEMARYJOHNIX': -2440.1326702986439, 'JOHNCANGOCAN': -2235.8211362380789, 'JOHNCANGO1CAN': -3017.1737107917597, 'JOHNFUTUREGO2PARTYFUTURE': -1911.0364179185981, 'JOHNFUTURE1GOIX': -2518.5925488355747, 'JOHNIXHITBLAMEFREDIX': -1771.3484105864591, 'JOHNFISHWONTEATBUTCANEATCHICKEN': -2406.8861818012174, 'VEGETABLECHINAIXPEOPLEPREFERBROCCOLI': -5473.2024105358059, 'JOHNLIKEIXIXIX': -3372.6015458677839}, {'JOHNWRITEHOMEWORK': -1496.1549227877672, 'IX-1PSEEJOHNYESTERDAYIX': -1687.1032332007244, 'JOHNIX-1PSEEIXYESTERDAY': -617.69775844170613, 'LOVEMARYJOHN': -1042.6704768130035, 'LOVEMARYJOHNIX': -603.67685830727703, 'JOHNCANGOCAN': -455.77529356504317, 'JOHNCANGO1CAN': -5012.666569827994, 'JOHNFUTUREGO2PARTYFUTURE': -1054.076454239535, 'JOHNFUTURE1GOIX': -782.03126099899384, 'JOHNIXHITBLAMEFREDIX': -553.31049826013634, 'JOHNFISHWONTEATBUTCANEATCHICKEN': -1336.8925165748014, 'VEGETABLECHINAIXPEOPLEPREFERBROCCOLI': -3402.9570641059931, 'JOHNLIKEIXIXIX': -724.22619830917483}, {'JOHNWRITEHOMEWORK': -2387.4839183419331, 'IX-1PSEEJOHNYESTERDAYIX': -1400.1941062157703, 'JOHNIX-1PSEEIXYESTERDAY': -470.29354070631098, 'LOVEMARYJOHN': -880.4760391293571, 'LOVEMARYJOHNIX': -330.92383889805961, 'JOHNCANGOCAN': -540.34905154414196, 'JOHNCANGO1CAN': -6630.4530396146256, 'JOHNFUTUREGO2PARTYFUTURE': -879.05211459948089, 'JOHNFUTURE1GOIX': -574.15768629694105, 'JOHNIXHITBLAMEFREDIX': -495.49837228465344, 'JOHNFISHWONTEATBUTCANEATCHICKEN': -899.89050415882753, 'VEGETABLECHINAIXPEOPLEPREFERBROCCOLI': -2613.323729276337, 'JOHNLIKEIXIXIX': -616.34563067497368}, {'JOHNWRITEHOMEWORK': -2312.4066090900942, 'IX-1PSEEJOHNYESTERDAYIX': -1568.5249265371094, 'JOHNIX-1PSEEIXYESTERDAY': -647.58805734147245, 'LOVEMARYJOHN': -1178.4343121675006, 'LOVEMARYJOHNIX': -678.02669401216474, 'JOHNCANGOCAN': -623.20444970227197, 'JOHNCANGO1CAN': -5072.309260333288, 'JOHNFUTUREGO2PARTYFUTURE': -1144.7142379685624, 'JOHNFUTURE1GOIX': -804.96262976924015, 'JOHNIXHITBLAMEFREDIX': -642.95952554092219, 'JOHNFISHWONTEATBUTCANEATCHICKEN': -991.15857643869492, 'VEGETABLECHINAIXPEOPLEPREFERBROCCOLI': -2923.8320311747921, 'JOHNLIKEIXIXIX': -814.35313008552248}, {'JOHNWRITEHOMEWORK': -14055.305806219934, 'IX-1PSEEJOHNYESTERDAYIX': -16998.872694400507, 'JOHNIX-1PSEEIXYESTERDAY': -7381.2151491565819, 'LOVEMARYJOHN': -10576.087143264074, 'LOVEMARYJOHNIX': -5407.6207705020497, 'JOHNCANGOCAN': -6114.3218746714438, 'JOHNCANGO1CAN': -17206.931274125483, 'JOHNFUTUREGO2PARTYFUTURE': -6596.8797164385314, 'JOHNFUTURE1GOIX': -8482.8596927211347, 'JOHNIXHITBLAMEFREDIX': -5522.7354115079052, 'JOHNFISHWONTEATBUTCANEATCHICKEN': -8808.4290214437551, 'VEGETABLECHINAIXPEOPLEPREFERBROCCOLI': -18916.260663522244, 'JOHNLIKEIXIXIX': -8077.9215014168167}, {'JOHNWRITEHOMEWORK': -1312.5057783040111, 'IX-1PSEEJOHNYESTERDAYIX': -1416.4922277007165, 'JOHNIX-1PSEEIXYESTERDAY': -778.74147503898394, 'LOVEMARYJOHN': -1270.7196877830565, 'LOVEMARYJOHNIX': -713.55833685351695, 'JOHNCANGOCAN': -819.31083301299464, 'JOHNCANGO1CAN': -2815.9712613137608, 'JOHNFUTUREGO2PARTYFUTURE': -977.29295127306352, 'JOHNFUTURE1GOIX': -1069.316258830069, 'JOHNIXHITBLAMEFREDIX': -682.1711600154747, 'JOHNFISHWONTEATBUTCANEATCHICKEN': -1610.5226285192764, 'VEGETABLECHINAIXPEOPLEPREFERBROCCOLI': -4828.7065506138933, 'JOHNLIKEIXIXIX': -932.66895657641487}, {'JOHNWRITEHOMEWORK': -16837.449844831128, 'IX-1PSEEJOHNYESTERDAYIX': -18212.171700110586, 'JOHNIX-1PSEEIXYESTERDAY': -7907.648703933769, 'LOVEMARYJOHN': -9482.1984836162173, 'LOVEMARYJOHNIX': -5376.1369370324355, 'JOHNCANGOCAN': -7060.2332035671989, 'JOHNCANGO1CAN': -13079.04802737128, 'JOHNFUTUREGO2PARTYFUTURE': -4063.2829997135564, 'JOHNFUTURE1GOIX': -7700.1044299459891, 'JOHNIXHITBLAMEFREDIX': -5780.2588020782077, 'JOHNFISHWONTEATBUTCANEATCHICKEN': -7648.6951485570999, 'VEGETABLECHINAIXPEOPLEPREFERBROCCOLI': -11754.726914052926, 'JOHNLIKEIXIXIX': -8935.3644783602485}, {'JOHNWRITEHOMEWORK': -1737.074978923652, 'IX-1PSEEJOHNYESTERDAYIX': -1133.8172866184293, 'JOHNIX-1PSEEIXYESTERDAY': -608.69454923804039, 'LOVEMARYJOHN': -1207.3728906912911, 'LOVEMARYJOHNIX': -526.61351847993456, 'JOHNCANGOCAN': -594.04174815942031, 'JOHNCANGO1CAN': -1195.7838171578883, 'JOHNFUTUREGO2PARTYFUTURE': -879.30667607318799, 'JOHNFUTURE1GOIX': -624.90545315841632, 'JOHNIXHITBLAMEFREDIX': -440.50725606533456, 'JOHNFISHWONTEATBUTCANEATCHICKEN': -845.70904254212792, 'VEGETABLECHINAIXPEOPLEPREFERBROCCOLI': -3081.3032713291932, 'JOHNLIKEIXIXIX': -645.38214961297399}, {'JOHNWRITEHOMEWORK': -2698.064509950359, 'IX-1PSEEJOHNYESTERDAYIX': -2382.1284199489146, 'JOHNIX-1PSEEIXYESTERDAY': -994.59322934583429, 'LOVEMARYJOHN': -1475.2867135190816, 'LOVEMARYJOHNIX': -956.11950669196119, 'JOHNCANGOCAN': -883.24561284295316, 'JOHNCANGO1CAN': -1746.4685185882406, 'JOHNFUTUREGO2PARTYFUTURE': -1376.8550757068972, 'JOHNFUTURE1GOIX': -1012.4497220777406, 'JOHNIXHITBLAMEFREDIX': -710.87341605936274, 'JOHNFISHWONTEATBUTCANEATCHICKEN': -1531.9753971897983, 'VEGETABLECHINAIXPEOPLEPREFERBROCCOLI': -3280.3093292476478, 'JOHNLIKEIXIXIX': -1085.4282939213069}, {'JOHNWRITEHOMEWORK': -449.45421910135121, 'IX-1PSEEJOHNYESTERDAYIX': -1203.3652595665803, 'JOHNIX-1PSEEIXYESTERDAY': -414.98478270988448, 'LOVEMARYJOHN': -311.45086639635656, 'LOVEMARYJOHNIX': -315.24457182254918, 'JOHNCANGOCAN': -477.13136803369616, 'JOHNCANGO1CAN': -2096.638405273754, 'JOHNFUTUREGO2PARTYFUTURE': -684.26593426704994, 'JOHNFUTURE1GOIX': -543.4640535214146, 'JOHNIXHITBLAMEFREDIX': -394.47352565736321, 'JOHNFISHWONTEATBUTCANEATCHICKEN': -602.93436139431651, 'VEGETABLECHINAIXPEOPLEPREFERBROCCOLI': -2674.7793320479068, 'JOHNLIKEIXIXIX': -619.66796847849673}, {'JOHNWRITEHOMEWORK': -8044.766838692939, 'IX-1PSEEJOHNYESTERDAYIX': -8756.2245281310134, 'JOHNIX-1PSEEIXYESTERDAY': -3359.3910181185202, 'LOVEMARYJOHN': -3605.8499236726534, 'LOVEMARYJOHNIX': -2652.7405419931001, 'JOHNCANGOCAN': -2879.8440115585008, 'JOHNCANGO1CAN': -4658.0377383932337, 'JOHNFUTUREGO2PARTYFUTURE': -1692.4247385241276, 'JOHNFUTURE1GOIX': -3498.518513570657, 'JOHNIXHITBLAMEFREDIX': -2485.7126893379163, 'JOHNFISHWONTEATBUTCANEATCHICKEN': -2579.7618669935491, 'VEGETABLECHINAIXPEOPLEPREFERBROCCOLI': -6453.0609050075273, 'JOHNLIKEIXIXIX': -3665.3301608709307}]\n"
     ]
    }
   ],
   "source": [
    "print(p)"
   ]
  },
  {
   "cell_type": "code",
   "execution_count": 38,
   "metadata": {},
   "outputs": [
    {
     "name": "stdout",
     "output_type": "stream",
     "text": [
      "['JOHNWRITEHOMEWORK', 'JOHNFISHWONTEATBUTCANEATCHICKEN', 'JOHNCANGO1CAN', 'JOHNIXHITBLAMEFREDIX', 'IX-1PSEEJOHNYESTERDAYIX', 'IX-1PSEEJOHNYESTERDAYIX', 'JOHNLIKEIXIXIX', 'JOHNFUTURE1GOIX', 'JOHNIX-1PSEEIXYESTERDAY', 'JOHNIXHITBLAMEFREDIX', 'JOHNIXHITBLAMEFREDIX', 'JOHNFISHWONTEATBUTCANEATCHICKEN', 'JOHNIX-1PSEEIXYESTERDAY', 'JOHNIXHITBLAMEFREDIX', 'LOVEMARYJOHNIX', 'JOHNIX-1PSEEIXYESTERDAY', 'LOVEMARYJOHNIX', 'JOHNWRITEHOMEWORK', 'JOHNIXHITBLAMEFREDIX', 'JOHNIXHITBLAMEFREDIX', 'JOHNIX-1PSEEIXYESTERDAY', 'JOHNFISHWONTEATBUTCANEATCHICKEN', 'JOHNFISHWONTEATBUTCANEATCHICKEN', 'JOHNIXHITBLAMEFREDIX', 'JOHNCANGOCAN', 'JOHNIXHITBLAMEFREDIX', 'LOVEMARYJOHNIX', 'JOHNFISHWONTEATBUTCANEATCHICKEN', 'JOHNFUTUREGO2PARTYFUTURE', 'JOHNIXHITBLAMEFREDIX', 'JOHNCANGOCAN', 'LOVEMARYJOHNIX', 'JOHNCANGOCAN', 'LOVEMARYJOHNIX', 'JOHNIXHITBLAMEFREDIX', 'JOHNFUTUREGO2PARTYFUTURE', 'JOHNIXHITBLAMEFREDIX', 'JOHNIXHITBLAMEFREDIX', 'LOVEMARYJOHN', 'JOHNFUTUREGO2PARTYFUTURE']\n",
      "True\n",
      "[True, False, False, False, False, False, True, False, False, False, False, False, False, False, False, False, False, False, False, False, False, False, False, False, False, False, False, False, False, False, False, False, False, False, False, False, False, False, False, False]\n"
     ]
    }
   ],
   "source": [
    "print(g)\n",
    "answers = []\n",
    "for video_num in test_set_sentences.sentences_index:\n",
    "        correct_sentence = [test_set_sentences.wordlist[i] for i in test_set_sentences.sentences_index[video_num]]\n",
    "        answers.append(''.join(correct_sentence))\n",
    "        #print('{}'.format(''.join(correct_sentence)))\n",
    "print(len(g)==len(answers))\n",
    "matches = [g[i]==answers[i] for i in range(len(g))]\n",
    "WER = float(sum(matches))/len(matches)\n",
    "print(matches)"
   ]
  },
  {
   "cell_type": "code",
   "execution_count": null,
   "metadata": {
    "collapsed": true
   },
   "outputs": [],
   "source": []
  }
 ],
 "metadata": {
  "anaconda-cloud": {},
  "kernelspec": {
   "display_name": "Python 3",
   "language": "python",
   "name": "python3"
  },
  "language_info": {
   "codemirror_mode": {
    "name": "ipython",
    "version": 3
   },
   "file_extension": ".py",
   "mimetype": "text/x-python",
   "name": "python",
   "nbconvert_exporter": "python",
   "pygments_lexer": "ipython3",
   "version": "3.6.0"
  },
  "nbpresent": {
   "slides": {
    "0a2d4faf-9fb8-4cee-853b-ed68b90f3f8a": {
     "id": "0a2d4faf-9fb8-4cee-853b-ed68b90f3f8a",
     "prev": null,
     "regions": {
      "3fb9ce83-fbb2-4995-832a-f8f400734ad3": {
       "attrs": {
        "height": 0.8,
        "width": 0.8,
        "x": 0.1,
        "y": 0.1
       },
       "content": {
        "cell": "1dbb9346-179b-4835-b430-6369d88f1a1b",
        "part": "whole"
       },
       "id": "3fb9ce83-fbb2-4995-832a-f8f400734ad3"
      }
     }
    },
    "1519a4fa-1588-4644-98de-9c43bf0aceb5": {
     "id": "1519a4fa-1588-4644-98de-9c43bf0aceb5",
     "prev": "8a712017-49b7-449f-8264-43a032ace902",
     "regions": {
      "29546121-ed11-44b7-8144-0c44e874098f": {
       "attrs": {
        "height": 0.8,
        "width": 0.8,
        "x": 0.1,
        "y": 0.1
       },
       "content": {
        "cell": "365590a4-6963-4812-a1cf-688f7b6bb9ff",
        "part": "whole"
       },
       "id": "29546121-ed11-44b7-8144-0c44e874098f"
      }
     }
    },
    "176eaccb-15dd-455d-bf07-504213e7aa01": {
     "id": "176eaccb-15dd-455d-bf07-504213e7aa01",
     "prev": "de6b30f4-2463-4901-92ed-aabad78e5e0f",
     "regions": {
      "1542aa9e-dc55-4b90-adef-bf5181872b42": {
       "attrs": {
        "height": 0.8,
        "width": 0.8,
        "x": 0.1,
        "y": 0.1
       },
       "content": {
        "cell": "5c242050-c1f7-4b3b-8103-2ea9d71a40dc",
        "part": "whole"
       },
       "id": "1542aa9e-dc55-4b90-adef-bf5181872b42"
      }
     }
    },
    "19091b36-b0e7-49b1-b501-ec05937e0da9": {
     "id": "19091b36-b0e7-49b1-b501-ec05937e0da9",
     "prev": "1983c02e-fb99-4c05-a728-e0c0ad7c06d8",
     "regions": {
      "6529a31c-8d45-425c-b1d7-d0ac6fca6a32": {
       "attrs": {
        "height": 0.8,
        "width": 0.8,
        "x": 0.1,
        "y": 0.1
       },
       "content": {
        "cell": "e766909d-9421-4aaf-9fb1-bc90d27e49e3",
        "part": "whole"
       },
       "id": "6529a31c-8d45-425c-b1d7-d0ac6fca6a32"
      }
     }
    },
    "1983c02e-fb99-4c05-a728-e0c0ad7c06d8": {
     "id": "1983c02e-fb99-4c05-a728-e0c0ad7c06d8",
     "prev": "176eaccb-15dd-455d-bf07-504213e7aa01",
     "regions": {
      "1c4e605d-7f22-4f30-b3fb-74b2937e7a4a": {
       "attrs": {
        "height": 0.8,
        "width": 0.8,
        "x": 0.1,
        "y": 0.1
       },
       "content": {
        "cell": "4d217204-e5c0-4568-bd30-12c2e41b681d",
        "part": "whole"
       },
       "id": "1c4e605d-7f22-4f30-b3fb-74b2937e7a4a"
      }
     }
    },
    "212b111f-4527-459c-8297-1db5580ee5c9": {
     "id": "212b111f-4527-459c-8297-1db5580ee5c9",
     "prev": "76898529-e49e-4663-8d02-8261dfe1d94b",
     "regions": {
      "2e4bd280-3cd6-47d0-9c81-17737b24053b": {
       "attrs": {
        "height": 0.8,
        "width": 0.8,
        "x": 0.1,
        "y": 0.1
       },
       "content": {
        "cell": "0c316996-9933-4b3d-82ec-259518dc8bc9",
        "part": "whole"
       },
       "id": "2e4bd280-3cd6-47d0-9c81-17737b24053b"
      }
     }
    },
    "23a7337f-a0cf-4ed4-baa9-ec06bfdc0579": {
     "id": "23a7337f-a0cf-4ed4-baa9-ec06bfdc0579",
     "prev": "e76e9a02-54c1-4ec9-80fb-c611ed398122",
     "regions": {
      "b5721d20-d6f8-4ddb-a5aa-eb16f0cc8893": {
       "attrs": {
        "height": 0.8,
        "width": 0.8,
        "x": 0.1,
        "y": 0.1
       },
       "content": {
        "cell": "313015a2-b5a9-4136-a8ea-5d011e47d840",
        "part": "whole"
       },
       "id": "b5721d20-d6f8-4ddb-a5aa-eb16f0cc8893"
      }
     }
    },
    "732f1952-ee54-46fb-8067-099512824296": {
     "id": "732f1952-ee54-46fb-8067-099512824296",
     "prev": "0a2d4faf-9fb8-4cee-853b-ed68b90f3f8a",
     "regions": {
      "f31d4597-08ad-4c46-ad52-4bd2d775c624": {
       "attrs": {
        "height": 0.8,
        "width": 0.8,
        "x": 0.1,
        "y": 0.1
       },
       "content": {
        "cell": "aadfec52-27ca-4541-8920-fa9253d51827",
        "part": "whole"
       },
       "id": "f31d4597-08ad-4c46-ad52-4bd2d775c624"
      }
     }
    },
    "76898529-e49e-4663-8d02-8261dfe1d94b": {
     "id": "76898529-e49e-4663-8d02-8261dfe1d94b",
     "prev": "19091b36-b0e7-49b1-b501-ec05937e0da9",
     "regions": {
      "ec1746fc-aec9-4a7c-8225-9e9ac8d45889": {
       "attrs": {
        "height": 0.8,
        "width": 0.8,
        "x": 0.1,
        "y": 0.1
       },
       "content": {
        "cell": "b3e539be-84e2-49ce-a183-31cfc5c7ce7c",
        "part": "whole"
       },
       "id": "ec1746fc-aec9-4a7c-8225-9e9ac8d45889"
      }
     }
    },
    "8a712017-49b7-449f-8264-43a032ace902": {
     "id": "8a712017-49b7-449f-8264-43a032ace902",
     "prev": "bed9e696-630e-4747-be1c-bc3737ba992f",
     "regions": {
      "1faab517-cd16-4c63-bb01-a67246749d7a": {
       "attrs": {
        "height": 0.8,
        "width": 0.8,
        "x": 0.1,
        "y": 0.1
       },
       "content": {
        "cell": "3f14ddf0-4145-4687-9c33-712c3c32520f",
        "part": "whole"
       },
       "id": "1faab517-cd16-4c63-bb01-a67246749d7a"
      }
     }
    },
    "90af992d-eb6d-4496-b2d2-6aa9a95b6a61": {
     "id": "90af992d-eb6d-4496-b2d2-6aa9a95b6a61",
     "prev": "732f1952-ee54-46fb-8067-099512824296",
     "regions": {
      "4f448bec-5be9-4553-88ae-e35ed7612f25": {
       "attrs": {
        "height": 0.8,
        "width": 0.8,
        "x": 0.1,
        "y": 0.1
       },
       "content": {
        "cell": "c445fbfb-b8ab-4e9a-8d13-12231a1c588f",
        "part": "whole"
       },
       "id": "4f448bec-5be9-4553-88ae-e35ed7612f25"
      }
     }
    },
    "bed9e696-630e-4747-be1c-bc3737ba992f": {
     "id": "bed9e696-630e-4747-be1c-bc3737ba992f",
     "prev": "23a7337f-a0cf-4ed4-baa9-ec06bfdc0579",
     "regions": {
      "ac1513f0-404f-492b-8b42-0313e9a753b0": {
       "attrs": {
        "height": 0.8,
        "width": 0.8,
        "x": 0.1,
        "y": 0.1
       },
       "content": {
        "cell": "18dd2eee-8b6c-4a5e-9539-132d00a7c7e1",
        "part": "whole"
       },
       "id": "ac1513f0-404f-492b-8b42-0313e9a753b0"
      }
     }
    },
    "de6b30f4-2463-4901-92ed-aabad78e5e0f": {
     "id": "de6b30f4-2463-4901-92ed-aabad78e5e0f",
     "prev": "e36b4639-be8c-46f7-a8c9-bcfb134f9fd0",
     "regions": {
      "55ec36e0-362f-4fd3-8060-7cee056039aa": {
       "attrs": {
        "height": 0.8,
        "width": 0.8,
        "x": 0.1,
        "y": 0.1
       },
       "content": {
        "cell": "c3cf461e-4c9e-4dec-99d2-07bfa79cbe23",
        "part": "whole"
       },
       "id": "55ec36e0-362f-4fd3-8060-7cee056039aa"
      }
     }
    },
    "e36b4639-be8c-46f7-a8c9-bcfb134f9fd0": {
     "id": "e36b4639-be8c-46f7-a8c9-bcfb134f9fd0",
     "prev": "1519a4fa-1588-4644-98de-9c43bf0aceb5",
     "regions": {
      "4c1e9714-9ba0-45fd-8a2f-ef80a5c85c2e": {
       "attrs": {
        "height": 0.8,
        "width": 0.8,
        "x": 0.1,
        "y": 0.1
       },
       "content": {
        "cell": "6534d4dc-125f-47e6-a022-cf1e0d277174",
        "part": "whole"
       },
       "id": "4c1e9714-9ba0-45fd-8a2f-ef80a5c85c2e"
      }
     }
    },
    "e76e9a02-54c1-4ec9-80fb-c611ed398122": {
     "id": "e76e9a02-54c1-4ec9-80fb-c611ed398122",
     "prev": "90af992d-eb6d-4496-b2d2-6aa9a95b6a61",
     "regions": {
      "9491b84d-193b-40ff-9321-d21eb1ba88d4": {
       "attrs": {
        "height": 0.8,
        "width": 0.8,
        "x": 0.1,
        "y": 0.1
       },
       "content": {
        "cell": "b64ec10e-fa9d-4f3f-907f-6799611ed6b1",
        "part": "whole"
       },
       "id": "9491b84d-193b-40ff-9321-d21eb1ba88d4"
      }
     }
    }
   },
   "themes": {}
  }
 },
 "nbformat": 4,
 "nbformat_minor": 1
}
